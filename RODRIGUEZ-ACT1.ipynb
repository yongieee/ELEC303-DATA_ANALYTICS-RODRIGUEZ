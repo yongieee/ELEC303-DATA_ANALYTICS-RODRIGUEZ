{
 "cells": [
  {
   "cell_type": "markdown",
   "id": "f7cb75c9-e7b7-43e7-82e6-d76ab346c69a",
   "metadata": {},
   "source": [
    "<h1>Bachelor of Science in Information Technology<h1>\n",
    "<hr>\n",
    "<h3>Student Analyst : Mark Dave L Rodriguez<h3>\n"
   ]
  },
  {
   "cell_type": "code",
   "execution_count": 56,
   "id": "cc7f97e1-79a0-4679-8e01-7aea64e8f9d1",
   "metadata": {},
   "outputs": [],
   "source": [
    "import numpy as np\n",
    "import pandas as pd\n",
    "import warnings\n",
    "warnings.filterwarnings('ignore')"
   ]
  },
  {
   "cell_type": "code",
   "execution_count": 57,
   "id": "f3c54042-8e27-4e65-bf72-b88904f805ca",
   "metadata": {},
   "outputs": [
    {
     "data": {
      "text/html": [
       "<div>\n",
       "<style scoped>\n",
       "    .dataframe tbody tr th:only-of-type {\n",
       "        vertical-align: middle;\n",
       "    }\n",
       "\n",
       "    .dataframe tbody tr th {\n",
       "        vertical-align: top;\n",
       "    }\n",
       "\n",
       "    .dataframe thead th {\n",
       "        text-align: right;\n",
       "    }\n",
       "</style>\n",
       "<table border=\"1\" class=\"dataframe\">\n",
       "  <thead>\n",
       "    <tr style=\"text-align: right;\">\n",
       "      <th></th>\n",
       "      <th>species</th>\n",
       "      <th>island</th>\n",
       "      <th>bill_length_mm</th>\n",
       "      <th>bill_depth_mm</th>\n",
       "      <th>flipper_length_mm</th>\n",
       "      <th>body_mass_g</th>\n",
       "      <th>sex</th>\n",
       "      <th>year</th>\n",
       "    </tr>\n",
       "  </thead>\n",
       "  <tbody>\n",
       "    <tr>\n",
       "      <th>0</th>\n",
       "      <td>Adelie</td>\n",
       "      <td>Torgersen</td>\n",
       "      <td>39.1</td>\n",
       "      <td>18.7</td>\n",
       "      <td>181.0</td>\n",
       "      <td>3750.0</td>\n",
       "      <td>male</td>\n",
       "      <td>2007</td>\n",
       "    </tr>\n",
       "    <tr>\n",
       "      <th>1</th>\n",
       "      <td>Adelie</td>\n",
       "      <td>Torgersen</td>\n",
       "      <td>39.5</td>\n",
       "      <td>17.4</td>\n",
       "      <td>186.0</td>\n",
       "      <td>3800.0</td>\n",
       "      <td>female</td>\n",
       "      <td>2007</td>\n",
       "    </tr>\n",
       "    <tr>\n",
       "      <th>2</th>\n",
       "      <td>Adelie</td>\n",
       "      <td>Torgersen</td>\n",
       "      <td>40.3</td>\n",
       "      <td>18.0</td>\n",
       "      <td>195.0</td>\n",
       "      <td>3250.0</td>\n",
       "      <td>female</td>\n",
       "      <td>2007</td>\n",
       "    </tr>\n",
       "    <tr>\n",
       "      <th>3</th>\n",
       "      <td>Adelie</td>\n",
       "      <td>Torgersen</td>\n",
       "      <td>NaN</td>\n",
       "      <td>NaN</td>\n",
       "      <td>NaN</td>\n",
       "      <td>NaN</td>\n",
       "      <td>NaN</td>\n",
       "      <td>2007</td>\n",
       "    </tr>\n",
       "    <tr>\n",
       "      <th>4</th>\n",
       "      <td>Adelie</td>\n",
       "      <td>Torgersen</td>\n",
       "      <td>36.7</td>\n",
       "      <td>19.3</td>\n",
       "      <td>193.0</td>\n",
       "      <td>3450.0</td>\n",
       "      <td>female</td>\n",
       "      <td>2007</td>\n",
       "    </tr>\n",
       "    <tr>\n",
       "      <th>...</th>\n",
       "      <td>...</td>\n",
       "      <td>...</td>\n",
       "      <td>...</td>\n",
       "      <td>...</td>\n",
       "      <td>...</td>\n",
       "      <td>...</td>\n",
       "      <td>...</td>\n",
       "      <td>...</td>\n",
       "    </tr>\n",
       "    <tr>\n",
       "      <th>339</th>\n",
       "      <td>Chinstrap</td>\n",
       "      <td>Dream</td>\n",
       "      <td>55.8</td>\n",
       "      <td>19.8</td>\n",
       "      <td>207.0</td>\n",
       "      <td>4000.0</td>\n",
       "      <td>male</td>\n",
       "      <td>2009</td>\n",
       "    </tr>\n",
       "    <tr>\n",
       "      <th>340</th>\n",
       "      <td>Chinstrap</td>\n",
       "      <td>Dream</td>\n",
       "      <td>43.5</td>\n",
       "      <td>18.1</td>\n",
       "      <td>202.0</td>\n",
       "      <td>3400.0</td>\n",
       "      <td>female</td>\n",
       "      <td>2009</td>\n",
       "    </tr>\n",
       "    <tr>\n",
       "      <th>341</th>\n",
       "      <td>Chinstrap</td>\n",
       "      <td>Dream</td>\n",
       "      <td>49.6</td>\n",
       "      <td>18.2</td>\n",
       "      <td>193.0</td>\n",
       "      <td>3775.0</td>\n",
       "      <td>male</td>\n",
       "      <td>2009</td>\n",
       "    </tr>\n",
       "    <tr>\n",
       "      <th>342</th>\n",
       "      <td>Chinstrap</td>\n",
       "      <td>Dream</td>\n",
       "      <td>50.8</td>\n",
       "      <td>19.0</td>\n",
       "      <td>210.0</td>\n",
       "      <td>4100.0</td>\n",
       "      <td>male</td>\n",
       "      <td>2009</td>\n",
       "    </tr>\n",
       "    <tr>\n",
       "      <th>343</th>\n",
       "      <td>Chinstrap</td>\n",
       "      <td>Dream</td>\n",
       "      <td>50.2</td>\n",
       "      <td>18.7</td>\n",
       "      <td>198.0</td>\n",
       "      <td>3775.0</td>\n",
       "      <td>female</td>\n",
       "      <td>2009</td>\n",
       "    </tr>\n",
       "  </tbody>\n",
       "</table>\n",
       "<p>344 rows × 8 columns</p>\n",
       "</div>"
      ],
      "text/plain": [
       "       species     island  bill_length_mm  bill_depth_mm  flipper_length_mm  \\\n",
       "0       Adelie  Torgersen            39.1           18.7              181.0   \n",
       "1       Adelie  Torgersen            39.5           17.4              186.0   \n",
       "2       Adelie  Torgersen            40.3           18.0              195.0   \n",
       "3       Adelie  Torgersen             NaN            NaN                NaN   \n",
       "4       Adelie  Torgersen            36.7           19.3              193.0   \n",
       "..         ...        ...             ...            ...                ...   \n",
       "339  Chinstrap      Dream            55.8           19.8              207.0   \n",
       "340  Chinstrap      Dream            43.5           18.1              202.0   \n",
       "341  Chinstrap      Dream            49.6           18.2              193.0   \n",
       "342  Chinstrap      Dream            50.8           19.0              210.0   \n",
       "343  Chinstrap      Dream            50.2           18.7              198.0   \n",
       "\n",
       "     body_mass_g     sex  year  \n",
       "0         3750.0    male  2007  \n",
       "1         3800.0  female  2007  \n",
       "2         3250.0  female  2007  \n",
       "3            NaN     NaN  2007  \n",
       "4         3450.0  female  2007  \n",
       "..           ...     ...   ...  \n",
       "339       4000.0    male  2009  \n",
       "340       3400.0  female  2009  \n",
       "341       3775.0    male  2009  \n",
       "342       4100.0    male  2009  \n",
       "343       3775.0  female  2009  \n",
       "\n",
       "[344 rows x 8 columns]"
      ]
     },
     "execution_count": 57,
     "metadata": {},
     "output_type": "execute_result"
    }
   ],
   "source": [
    "penguins = pd.read_csv(r\"C:\\Users\\CLIENT\\Documents\\penguin.csv\")\n",
    "penguins"
   ]
  },
  {
   "cell_type": "markdown",
   "id": "ad980eae-0257-4ec6-9f05-c4c86d28f28a",
   "metadata": {},
   "source": [
    "<h1>Descriptive analytics<h1>\n"
   ]
  },
  {
   "cell_type": "code",
   "execution_count": 58,
   "id": "373aac5e-4711-439c-b4c6-b2d57adfd204",
   "metadata": {},
   "outputs": [
    {
     "data": {
      "text/html": [
       "<div>\n",
       "<style scoped>\n",
       "    .dataframe tbody tr th:only-of-type {\n",
       "        vertical-align: middle;\n",
       "    }\n",
       "\n",
       "    .dataframe tbody tr th {\n",
       "        vertical-align: top;\n",
       "    }\n",
       "\n",
       "    .dataframe thead th {\n",
       "        text-align: right;\n",
       "    }\n",
       "</style>\n",
       "<table border=\"1\" class=\"dataframe\">\n",
       "  <thead>\n",
       "    <tr style=\"text-align: right;\">\n",
       "      <th></th>\n",
       "      <th>bill_length_mm</th>\n",
       "      <th>bill_depth_mm</th>\n",
       "      <th>flipper_length_mm</th>\n",
       "      <th>body_mass_g</th>\n",
       "      <th>year</th>\n",
       "    </tr>\n",
       "  </thead>\n",
       "  <tbody>\n",
       "    <tr>\n",
       "      <th>count</th>\n",
       "      <td>342.000000</td>\n",
       "      <td>342.000000</td>\n",
       "      <td>342.000000</td>\n",
       "      <td>342.000000</td>\n",
       "      <td>344.000000</td>\n",
       "    </tr>\n",
       "    <tr>\n",
       "      <th>mean</th>\n",
       "      <td>43.921930</td>\n",
       "      <td>17.151170</td>\n",
       "      <td>200.915205</td>\n",
       "      <td>4201.754386</td>\n",
       "      <td>2008.029070</td>\n",
       "    </tr>\n",
       "    <tr>\n",
       "      <th>std</th>\n",
       "      <td>5.459584</td>\n",
       "      <td>1.974793</td>\n",
       "      <td>14.061714</td>\n",
       "      <td>801.954536</td>\n",
       "      <td>0.818356</td>\n",
       "    </tr>\n",
       "    <tr>\n",
       "      <th>min</th>\n",
       "      <td>32.100000</td>\n",
       "      <td>13.100000</td>\n",
       "      <td>172.000000</td>\n",
       "      <td>2700.000000</td>\n",
       "      <td>2007.000000</td>\n",
       "    </tr>\n",
       "    <tr>\n",
       "      <th>25%</th>\n",
       "      <td>39.225000</td>\n",
       "      <td>15.600000</td>\n",
       "      <td>190.000000</td>\n",
       "      <td>3550.000000</td>\n",
       "      <td>2007.000000</td>\n",
       "    </tr>\n",
       "    <tr>\n",
       "      <th>50%</th>\n",
       "      <td>44.450000</td>\n",
       "      <td>17.300000</td>\n",
       "      <td>197.000000</td>\n",
       "      <td>4050.000000</td>\n",
       "      <td>2008.000000</td>\n",
       "    </tr>\n",
       "    <tr>\n",
       "      <th>75%</th>\n",
       "      <td>48.500000</td>\n",
       "      <td>18.700000</td>\n",
       "      <td>213.000000</td>\n",
       "      <td>4750.000000</td>\n",
       "      <td>2009.000000</td>\n",
       "    </tr>\n",
       "    <tr>\n",
       "      <th>max</th>\n",
       "      <td>59.600000</td>\n",
       "      <td>21.500000</td>\n",
       "      <td>231.000000</td>\n",
       "      <td>6300.000000</td>\n",
       "      <td>2009.000000</td>\n",
       "    </tr>\n",
       "  </tbody>\n",
       "</table>\n",
       "</div>"
      ],
      "text/plain": [
       "       bill_length_mm  bill_depth_mm  flipper_length_mm  body_mass_g  \\\n",
       "count      342.000000     342.000000         342.000000   342.000000   \n",
       "mean        43.921930      17.151170         200.915205  4201.754386   \n",
       "std          5.459584       1.974793          14.061714   801.954536   \n",
       "min         32.100000      13.100000         172.000000  2700.000000   \n",
       "25%         39.225000      15.600000         190.000000  3550.000000   \n",
       "50%         44.450000      17.300000         197.000000  4050.000000   \n",
       "75%         48.500000      18.700000         213.000000  4750.000000   \n",
       "max         59.600000      21.500000         231.000000  6300.000000   \n",
       "\n",
       "              year  \n",
       "count   344.000000  \n",
       "mean   2008.029070  \n",
       "std       0.818356  \n",
       "min    2007.000000  \n",
       "25%    2007.000000  \n",
       "50%    2008.000000  \n",
       "75%    2009.000000  \n",
       "max    2009.000000  "
      ]
     },
     "execution_count": 58,
     "metadata": {},
     "output_type": "execute_result"
    }
   ],
   "source": [
    "penguins.describe()"
   ]
  },
  {
   "cell_type": "code",
   "execution_count": 59,
   "id": "42212df2-d107-4b11-b2ff-457f6c9c2baa",
   "metadata": {},
   "outputs": [
    {
     "data": {
      "text/html": [
       "<div>\n",
       "<style scoped>\n",
       "    .dataframe tbody tr th:only-of-type {\n",
       "        vertical-align: middle;\n",
       "    }\n",
       "\n",
       "    .dataframe tbody tr th {\n",
       "        vertical-align: top;\n",
       "    }\n",
       "\n",
       "    .dataframe thead th {\n",
       "        text-align: right;\n",
       "    }\n",
       "</style>\n",
       "<table border=\"1\" class=\"dataframe\">\n",
       "  <thead>\n",
       "    <tr style=\"text-align: right;\">\n",
       "      <th></th>\n",
       "      <th>count</th>\n",
       "      <th>mean</th>\n",
       "      <th>std</th>\n",
       "      <th>min</th>\n",
       "      <th>25%</th>\n",
       "      <th>50%</th>\n",
       "      <th>75%</th>\n",
       "      <th>max</th>\n",
       "    </tr>\n",
       "  </thead>\n",
       "  <tbody>\n",
       "    <tr>\n",
       "      <th>bill_length_mm</th>\n",
       "      <td>342.0</td>\n",
       "      <td>43.921930</td>\n",
       "      <td>5.459584</td>\n",
       "      <td>32.1</td>\n",
       "      <td>39.225</td>\n",
       "      <td>44.45</td>\n",
       "      <td>48.5</td>\n",
       "      <td>59.6</td>\n",
       "    </tr>\n",
       "    <tr>\n",
       "      <th>bill_depth_mm</th>\n",
       "      <td>342.0</td>\n",
       "      <td>17.151170</td>\n",
       "      <td>1.974793</td>\n",
       "      <td>13.1</td>\n",
       "      <td>15.600</td>\n",
       "      <td>17.30</td>\n",
       "      <td>18.7</td>\n",
       "      <td>21.5</td>\n",
       "    </tr>\n",
       "    <tr>\n",
       "      <th>flipper_length_mm</th>\n",
       "      <td>342.0</td>\n",
       "      <td>200.915205</td>\n",
       "      <td>14.061714</td>\n",
       "      <td>172.0</td>\n",
       "      <td>190.000</td>\n",
       "      <td>197.00</td>\n",
       "      <td>213.0</td>\n",
       "      <td>231.0</td>\n",
       "    </tr>\n",
       "    <tr>\n",
       "      <th>body_mass_g</th>\n",
       "      <td>342.0</td>\n",
       "      <td>4201.754386</td>\n",
       "      <td>801.954536</td>\n",
       "      <td>2700.0</td>\n",
       "      <td>3550.000</td>\n",
       "      <td>4050.00</td>\n",
       "      <td>4750.0</td>\n",
       "      <td>6300.0</td>\n",
       "    </tr>\n",
       "    <tr>\n",
       "      <th>year</th>\n",
       "      <td>344.0</td>\n",
       "      <td>2008.029070</td>\n",
       "      <td>0.818356</td>\n",
       "      <td>2007.0</td>\n",
       "      <td>2007.000</td>\n",
       "      <td>2008.00</td>\n",
       "      <td>2009.0</td>\n",
       "      <td>2009.0</td>\n",
       "    </tr>\n",
       "  </tbody>\n",
       "</table>\n",
       "</div>"
      ],
      "text/plain": [
       "                   count         mean         std     min       25%      50%  \\\n",
       "bill_length_mm     342.0    43.921930    5.459584    32.1    39.225    44.45   \n",
       "bill_depth_mm      342.0    17.151170    1.974793    13.1    15.600    17.30   \n",
       "flipper_length_mm  342.0   200.915205   14.061714   172.0   190.000   197.00   \n",
       "body_mass_g        342.0  4201.754386  801.954536  2700.0  3550.000  4050.00   \n",
       "year               344.0  2008.029070    0.818356  2007.0  2007.000  2008.00   \n",
       "\n",
       "                      75%     max  \n",
       "bill_length_mm       48.5    59.6  \n",
       "bill_depth_mm        18.7    21.5  \n",
       "flipper_length_mm   213.0   231.0  \n",
       "body_mass_g        4750.0  6300.0  \n",
       "year               2009.0  2009.0  "
      ]
     },
     "execution_count": 59,
     "metadata": {},
     "output_type": "execute_result"
    }
   ],
   "source": [
    "penguins.describe().T"
   ]
  },
  {
   "cell_type": "markdown",
   "id": "adf09188-317a-4ee5-9ad0-55cfff318999",
   "metadata": {},
   "source": [
    "<h1>Cleaning Data<h1>"
   ]
  },
  {
   "cell_type": "code",
   "execution_count": 60,
   "id": "f1a8929d-33fd-4044-88df-5254aa025cc5",
   "metadata": {},
   "outputs": [
    {
     "data": {
      "text/plain": [
       "species               0\n",
       "island                0\n",
       "bill_length_mm        2\n",
       "bill_depth_mm         2\n",
       "flipper_length_mm     2\n",
       "body_mass_g           2\n",
       "sex                  11\n",
       "year                  0\n",
       "dtype: int64"
      ]
     },
     "execution_count": 60,
     "metadata": {},
     "output_type": "execute_result"
    }
   ],
   "source": [
    "penguins.isnull().sum()"
   ]
  },
  {
   "cell_type": "code",
   "execution_count": 61,
   "id": "cb027e54-7a40-40db-b7f2-480961177402",
   "metadata": {},
   "outputs": [
    {
     "data": {
      "text/plain": [
       "species\n",
       "Adelie       152\n",
       "Gentoo       124\n",
       "Chinstrap     68\n",
       "Name: count, dtype: int64"
      ]
     },
     "execution_count": 61,
     "metadata": {},
     "output_type": "execute_result"
    }
   ],
   "source": [
    "penguins['species'].value_counts()"
   ]
  },
  {
   "cell_type": "code",
   "execution_count": 62,
   "id": "07d58306-d16e-4c3f-a3bf-948894fb7871",
   "metadata": {},
   "outputs": [
    {
     "data": {
      "text/plain": [
       "species\n",
       "Adelie       152\n",
       "Gentoo       124\n",
       "Chinstrap     68\n",
       "Name: count, dtype: int64"
      ]
     },
     "execution_count": 62,
     "metadata": {},
     "output_type": "execute_result"
    }
   ],
   "source": [
    "penguins['species'].value_counts()"
   ]
  },
  {
   "cell_type": "code",
   "execution_count": 63,
   "id": "264a8218-760b-40c9-97ed-a51077bd8bb1",
   "metadata": {},
   "outputs": [
    {
     "data": {
      "text/html": [
       "<div>\n",
       "<style scoped>\n",
       "    .dataframe tbody tr th:only-of-type {\n",
       "        vertical-align: middle;\n",
       "    }\n",
       "\n",
       "    .dataframe tbody tr th {\n",
       "        vertical-align: top;\n",
       "    }\n",
       "\n",
       "    .dataframe thead th {\n",
       "        text-align: right;\n",
       "    }\n",
       "</style>\n",
       "<table border=\"1\" class=\"dataframe\">\n",
       "  <thead>\n",
       "    <tr style=\"text-align: right;\">\n",
       "      <th></th>\n",
       "      <th>species</th>\n",
       "      <th>island</th>\n",
       "      <th>bill_length_mm</th>\n",
       "      <th>bill_depth_mm</th>\n",
       "      <th>flipper_length_mm</th>\n",
       "      <th>body_mass_g</th>\n",
       "      <th>sex</th>\n",
       "      <th>year</th>\n",
       "    </tr>\n",
       "  </thead>\n",
       "  <tbody>\n",
       "    <tr>\n",
       "      <th>0</th>\n",
       "      <td>Adelie</td>\n",
       "      <td>Torgersen</td>\n",
       "      <td>39.1</td>\n",
       "      <td>18.7</td>\n",
       "      <td>181.0</td>\n",
       "      <td>3750.0</td>\n",
       "      <td>male</td>\n",
       "      <td>2007</td>\n",
       "    </tr>\n",
       "    <tr>\n",
       "      <th>1</th>\n",
       "      <td>Adelie</td>\n",
       "      <td>Torgersen</td>\n",
       "      <td>39.5</td>\n",
       "      <td>17.4</td>\n",
       "      <td>186.0</td>\n",
       "      <td>3800.0</td>\n",
       "      <td>female</td>\n",
       "      <td>2007</td>\n",
       "    </tr>\n",
       "    <tr>\n",
       "      <th>2</th>\n",
       "      <td>Adelie</td>\n",
       "      <td>Torgersen</td>\n",
       "      <td>40.3</td>\n",
       "      <td>18.0</td>\n",
       "      <td>195.0</td>\n",
       "      <td>3250.0</td>\n",
       "      <td>female</td>\n",
       "      <td>2007</td>\n",
       "    </tr>\n",
       "    <tr>\n",
       "      <th>3</th>\n",
       "      <td>Adelie</td>\n",
       "      <td>Torgersen</td>\n",
       "      <td>NaN</td>\n",
       "      <td>NaN</td>\n",
       "      <td>NaN</td>\n",
       "      <td>NaN</td>\n",
       "      <td>NaN</td>\n",
       "      <td>2007</td>\n",
       "    </tr>\n",
       "    <tr>\n",
       "      <th>4</th>\n",
       "      <td>Adelie</td>\n",
       "      <td>Torgersen</td>\n",
       "      <td>36.7</td>\n",
       "      <td>19.3</td>\n",
       "      <td>193.0</td>\n",
       "      <td>3450.0</td>\n",
       "      <td>female</td>\n",
       "      <td>2007</td>\n",
       "    </tr>\n",
       "    <tr>\n",
       "      <th>...</th>\n",
       "      <td>...</td>\n",
       "      <td>...</td>\n",
       "      <td>...</td>\n",
       "      <td>...</td>\n",
       "      <td>...</td>\n",
       "      <td>...</td>\n",
       "      <td>...</td>\n",
       "      <td>...</td>\n",
       "    </tr>\n",
       "    <tr>\n",
       "      <th>147</th>\n",
       "      <td>Adelie</td>\n",
       "      <td>Dream</td>\n",
       "      <td>36.6</td>\n",
       "      <td>18.4</td>\n",
       "      <td>184.0</td>\n",
       "      <td>3475.0</td>\n",
       "      <td>female</td>\n",
       "      <td>2009</td>\n",
       "    </tr>\n",
       "    <tr>\n",
       "      <th>148</th>\n",
       "      <td>Adelie</td>\n",
       "      <td>Dream</td>\n",
       "      <td>36.0</td>\n",
       "      <td>17.8</td>\n",
       "      <td>195.0</td>\n",
       "      <td>3450.0</td>\n",
       "      <td>female</td>\n",
       "      <td>2009</td>\n",
       "    </tr>\n",
       "    <tr>\n",
       "      <th>149</th>\n",
       "      <td>Adelie</td>\n",
       "      <td>Dream</td>\n",
       "      <td>37.8</td>\n",
       "      <td>18.1</td>\n",
       "      <td>193.0</td>\n",
       "      <td>3750.0</td>\n",
       "      <td>male</td>\n",
       "      <td>2009</td>\n",
       "    </tr>\n",
       "    <tr>\n",
       "      <th>150</th>\n",
       "      <td>Adelie</td>\n",
       "      <td>Dream</td>\n",
       "      <td>36.0</td>\n",
       "      <td>17.1</td>\n",
       "      <td>187.0</td>\n",
       "      <td>3700.0</td>\n",
       "      <td>female</td>\n",
       "      <td>2009</td>\n",
       "    </tr>\n",
       "    <tr>\n",
       "      <th>151</th>\n",
       "      <td>Adelie</td>\n",
       "      <td>Dream</td>\n",
       "      <td>41.5</td>\n",
       "      <td>18.5</td>\n",
       "      <td>201.0</td>\n",
       "      <td>4000.0</td>\n",
       "      <td>male</td>\n",
       "      <td>2009</td>\n",
       "    </tr>\n",
       "  </tbody>\n",
       "</table>\n",
       "<p>152 rows × 8 columns</p>\n",
       "</div>"
      ],
      "text/plain": [
       "    species     island  bill_length_mm  bill_depth_mm  flipper_length_mm  \\\n",
       "0    Adelie  Torgersen            39.1           18.7              181.0   \n",
       "1    Adelie  Torgersen            39.5           17.4              186.0   \n",
       "2    Adelie  Torgersen            40.3           18.0              195.0   \n",
       "3    Adelie  Torgersen             NaN            NaN                NaN   \n",
       "4    Adelie  Torgersen            36.7           19.3              193.0   \n",
       "..      ...        ...             ...            ...                ...   \n",
       "147  Adelie      Dream            36.6           18.4              184.0   \n",
       "148  Adelie      Dream            36.0           17.8              195.0   \n",
       "149  Adelie      Dream            37.8           18.1              193.0   \n",
       "150  Adelie      Dream            36.0           17.1              187.0   \n",
       "151  Adelie      Dream            41.5           18.5              201.0   \n",
       "\n",
       "     body_mass_g     sex  year  \n",
       "0         3750.0    male  2007  \n",
       "1         3800.0  female  2007  \n",
       "2         3250.0  female  2007  \n",
       "3            NaN     NaN  2007  \n",
       "4         3450.0  female  2007  \n",
       "..           ...     ...   ...  \n",
       "147       3475.0  female  2009  \n",
       "148       3450.0  female  2009  \n",
       "149       3750.0    male  2009  \n",
       "150       3700.0  female  2009  \n",
       "151       4000.0    male  2009  \n",
       "\n",
       "[152 rows x 8 columns]"
      ]
     },
     "execution_count": 63,
     "metadata": {},
     "output_type": "execute_result"
    }
   ],
   "source": [
    "adelie_df = penguins[penguins['species']==\"Adelie\"]\n",
    "adelie_df"
   ]
  },
  {
   "cell_type": "code",
   "execution_count": 64,
   "id": "4518df70-92f2-4e65-baab-51052e4fe6d9",
   "metadata": {},
   "outputs": [
    {
     "data": {
      "text/html": [
       "<div>\n",
       "<style scoped>\n",
       "    .dataframe tbody tr th:only-of-type {\n",
       "        vertical-align: middle;\n",
       "    }\n",
       "\n",
       "    .dataframe tbody tr th {\n",
       "        vertical-align: top;\n",
       "    }\n",
       "\n",
       "    .dataframe thead th {\n",
       "        text-align: right;\n",
       "    }\n",
       "</style>\n",
       "<table border=\"1\" class=\"dataframe\">\n",
       "  <thead>\n",
       "    <tr style=\"text-align: right;\">\n",
       "      <th></th>\n",
       "      <th>species</th>\n",
       "      <th>island</th>\n",
       "      <th>bill_length_mm</th>\n",
       "      <th>bill_depth_mm</th>\n",
       "      <th>flipper_length_mm</th>\n",
       "      <th>body_mass_g</th>\n",
       "      <th>sex</th>\n",
       "      <th>year</th>\n",
       "    </tr>\n",
       "  </thead>\n",
       "  <tbody>\n",
       "    <tr>\n",
       "      <th>276</th>\n",
       "      <td>Chinstrap</td>\n",
       "      <td>Dream</td>\n",
       "      <td>46.5</td>\n",
       "      <td>17.9</td>\n",
       "      <td>192.0</td>\n",
       "      <td>3500.0</td>\n",
       "      <td>female</td>\n",
       "      <td>2007</td>\n",
       "    </tr>\n",
       "    <tr>\n",
       "      <th>277</th>\n",
       "      <td>Chinstrap</td>\n",
       "      <td>Dream</td>\n",
       "      <td>50.0</td>\n",
       "      <td>19.5</td>\n",
       "      <td>196.0</td>\n",
       "      <td>3900.0</td>\n",
       "      <td>male</td>\n",
       "      <td>2007</td>\n",
       "    </tr>\n",
       "    <tr>\n",
       "      <th>278</th>\n",
       "      <td>Chinstrap</td>\n",
       "      <td>Dream</td>\n",
       "      <td>51.3</td>\n",
       "      <td>19.2</td>\n",
       "      <td>193.0</td>\n",
       "      <td>3650.0</td>\n",
       "      <td>male</td>\n",
       "      <td>2007</td>\n",
       "    </tr>\n",
       "    <tr>\n",
       "      <th>279</th>\n",
       "      <td>Chinstrap</td>\n",
       "      <td>Dream</td>\n",
       "      <td>45.4</td>\n",
       "      <td>18.7</td>\n",
       "      <td>188.0</td>\n",
       "      <td>3525.0</td>\n",
       "      <td>female</td>\n",
       "      <td>2007</td>\n",
       "    </tr>\n",
       "    <tr>\n",
       "      <th>280</th>\n",
       "      <td>Chinstrap</td>\n",
       "      <td>Dream</td>\n",
       "      <td>52.7</td>\n",
       "      <td>19.8</td>\n",
       "      <td>197.0</td>\n",
       "      <td>3725.0</td>\n",
       "      <td>male</td>\n",
       "      <td>2007</td>\n",
       "    </tr>\n",
       "    <tr>\n",
       "      <th>...</th>\n",
       "      <td>...</td>\n",
       "      <td>...</td>\n",
       "      <td>...</td>\n",
       "      <td>...</td>\n",
       "      <td>...</td>\n",
       "      <td>...</td>\n",
       "      <td>...</td>\n",
       "      <td>...</td>\n",
       "    </tr>\n",
       "    <tr>\n",
       "      <th>339</th>\n",
       "      <td>Chinstrap</td>\n",
       "      <td>Dream</td>\n",
       "      <td>55.8</td>\n",
       "      <td>19.8</td>\n",
       "      <td>207.0</td>\n",
       "      <td>4000.0</td>\n",
       "      <td>male</td>\n",
       "      <td>2009</td>\n",
       "    </tr>\n",
       "    <tr>\n",
       "      <th>340</th>\n",
       "      <td>Chinstrap</td>\n",
       "      <td>Dream</td>\n",
       "      <td>43.5</td>\n",
       "      <td>18.1</td>\n",
       "      <td>202.0</td>\n",
       "      <td>3400.0</td>\n",
       "      <td>female</td>\n",
       "      <td>2009</td>\n",
       "    </tr>\n",
       "    <tr>\n",
       "      <th>341</th>\n",
       "      <td>Chinstrap</td>\n",
       "      <td>Dream</td>\n",
       "      <td>49.6</td>\n",
       "      <td>18.2</td>\n",
       "      <td>193.0</td>\n",
       "      <td>3775.0</td>\n",
       "      <td>male</td>\n",
       "      <td>2009</td>\n",
       "    </tr>\n",
       "    <tr>\n",
       "      <th>342</th>\n",
       "      <td>Chinstrap</td>\n",
       "      <td>Dream</td>\n",
       "      <td>50.8</td>\n",
       "      <td>19.0</td>\n",
       "      <td>210.0</td>\n",
       "      <td>4100.0</td>\n",
       "      <td>male</td>\n",
       "      <td>2009</td>\n",
       "    </tr>\n",
       "    <tr>\n",
       "      <th>343</th>\n",
       "      <td>Chinstrap</td>\n",
       "      <td>Dream</td>\n",
       "      <td>50.2</td>\n",
       "      <td>18.7</td>\n",
       "      <td>198.0</td>\n",
       "      <td>3775.0</td>\n",
       "      <td>female</td>\n",
       "      <td>2009</td>\n",
       "    </tr>\n",
       "  </tbody>\n",
       "</table>\n",
       "<p>68 rows × 8 columns</p>\n",
       "</div>"
      ],
      "text/plain": [
       "       species island  bill_length_mm  bill_depth_mm  flipper_length_mm  \\\n",
       "276  Chinstrap  Dream            46.5           17.9              192.0   \n",
       "277  Chinstrap  Dream            50.0           19.5              196.0   \n",
       "278  Chinstrap  Dream            51.3           19.2              193.0   \n",
       "279  Chinstrap  Dream            45.4           18.7              188.0   \n",
       "280  Chinstrap  Dream            52.7           19.8              197.0   \n",
       "..         ...    ...             ...            ...                ...   \n",
       "339  Chinstrap  Dream            55.8           19.8              207.0   \n",
       "340  Chinstrap  Dream            43.5           18.1              202.0   \n",
       "341  Chinstrap  Dream            49.6           18.2              193.0   \n",
       "342  Chinstrap  Dream            50.8           19.0              210.0   \n",
       "343  Chinstrap  Dream            50.2           18.7              198.0   \n",
       "\n",
       "     body_mass_g     sex  year  \n",
       "276       3500.0  female  2007  \n",
       "277       3900.0    male  2007  \n",
       "278       3650.0    male  2007  \n",
       "279       3525.0  female  2007  \n",
       "280       3725.0    male  2007  \n",
       "..           ...     ...   ...  \n",
       "339       4000.0    male  2009  \n",
       "340       3400.0  female  2009  \n",
       "341       3775.0    male  2009  \n",
       "342       4100.0    male  2009  \n",
       "343       3775.0  female  2009  \n",
       "\n",
       "[68 rows x 8 columns]"
      ]
     },
     "execution_count": 64,
     "metadata": {},
     "output_type": "execute_result"
    }
   ],
   "source": [
    "chinstrap_df = penguins[penguins['species']==\"Chinstrap\"]\n",
    "chinstrap_df"
   ]
  },
  {
   "cell_type": "code",
   "execution_count": 65,
   "id": "c7dacfa3-0b0f-427c-b3dd-101f42bd6122",
   "metadata": {},
   "outputs": [
    {
     "data": {
      "text/html": [
       "<div>\n",
       "<style scoped>\n",
       "    .dataframe tbody tr th:only-of-type {\n",
       "        vertical-align: middle;\n",
       "    }\n",
       "\n",
       "    .dataframe tbody tr th {\n",
       "        vertical-align: top;\n",
       "    }\n",
       "\n",
       "    .dataframe thead th {\n",
       "        text-align: right;\n",
       "    }\n",
       "</style>\n",
       "<table border=\"1\" class=\"dataframe\">\n",
       "  <thead>\n",
       "    <tr style=\"text-align: right;\">\n",
       "      <th></th>\n",
       "      <th>species</th>\n",
       "      <th>island</th>\n",
       "      <th>bill_length_mm</th>\n",
       "      <th>bill_depth_mm</th>\n",
       "      <th>flipper_length_mm</th>\n",
       "      <th>body_mass_g</th>\n",
       "      <th>sex</th>\n",
       "      <th>year</th>\n",
       "    </tr>\n",
       "  </thead>\n",
       "  <tbody>\n",
       "    <tr>\n",
       "      <th>152</th>\n",
       "      <td>Gentoo</td>\n",
       "      <td>Biscoe</td>\n",
       "      <td>46.1</td>\n",
       "      <td>13.2</td>\n",
       "      <td>211.0</td>\n",
       "      <td>4500.0</td>\n",
       "      <td>female</td>\n",
       "      <td>2007</td>\n",
       "    </tr>\n",
       "    <tr>\n",
       "      <th>153</th>\n",
       "      <td>Gentoo</td>\n",
       "      <td>Biscoe</td>\n",
       "      <td>50.0</td>\n",
       "      <td>16.3</td>\n",
       "      <td>230.0</td>\n",
       "      <td>5700.0</td>\n",
       "      <td>male</td>\n",
       "      <td>2007</td>\n",
       "    </tr>\n",
       "    <tr>\n",
       "      <th>154</th>\n",
       "      <td>Gentoo</td>\n",
       "      <td>Biscoe</td>\n",
       "      <td>48.7</td>\n",
       "      <td>14.1</td>\n",
       "      <td>210.0</td>\n",
       "      <td>4450.0</td>\n",
       "      <td>female</td>\n",
       "      <td>2007</td>\n",
       "    </tr>\n",
       "    <tr>\n",
       "      <th>155</th>\n",
       "      <td>Gentoo</td>\n",
       "      <td>Biscoe</td>\n",
       "      <td>50.0</td>\n",
       "      <td>15.2</td>\n",
       "      <td>218.0</td>\n",
       "      <td>5700.0</td>\n",
       "      <td>male</td>\n",
       "      <td>2007</td>\n",
       "    </tr>\n",
       "    <tr>\n",
       "      <th>156</th>\n",
       "      <td>Gentoo</td>\n",
       "      <td>Biscoe</td>\n",
       "      <td>47.6</td>\n",
       "      <td>14.5</td>\n",
       "      <td>215.0</td>\n",
       "      <td>5400.0</td>\n",
       "      <td>male</td>\n",
       "      <td>2007</td>\n",
       "    </tr>\n",
       "    <tr>\n",
       "      <th>...</th>\n",
       "      <td>...</td>\n",
       "      <td>...</td>\n",
       "      <td>...</td>\n",
       "      <td>...</td>\n",
       "      <td>...</td>\n",
       "      <td>...</td>\n",
       "      <td>...</td>\n",
       "      <td>...</td>\n",
       "    </tr>\n",
       "    <tr>\n",
       "      <th>271</th>\n",
       "      <td>Gentoo</td>\n",
       "      <td>Biscoe</td>\n",
       "      <td>NaN</td>\n",
       "      <td>NaN</td>\n",
       "      <td>NaN</td>\n",
       "      <td>NaN</td>\n",
       "      <td>NaN</td>\n",
       "      <td>2009</td>\n",
       "    </tr>\n",
       "    <tr>\n",
       "      <th>272</th>\n",
       "      <td>Gentoo</td>\n",
       "      <td>Biscoe</td>\n",
       "      <td>46.8</td>\n",
       "      <td>14.3</td>\n",
       "      <td>215.0</td>\n",
       "      <td>4850.0</td>\n",
       "      <td>female</td>\n",
       "      <td>2009</td>\n",
       "    </tr>\n",
       "    <tr>\n",
       "      <th>273</th>\n",
       "      <td>Gentoo</td>\n",
       "      <td>Biscoe</td>\n",
       "      <td>50.4</td>\n",
       "      <td>15.7</td>\n",
       "      <td>222.0</td>\n",
       "      <td>5750.0</td>\n",
       "      <td>male</td>\n",
       "      <td>2009</td>\n",
       "    </tr>\n",
       "    <tr>\n",
       "      <th>274</th>\n",
       "      <td>Gentoo</td>\n",
       "      <td>Biscoe</td>\n",
       "      <td>45.2</td>\n",
       "      <td>14.8</td>\n",
       "      <td>212.0</td>\n",
       "      <td>5200.0</td>\n",
       "      <td>female</td>\n",
       "      <td>2009</td>\n",
       "    </tr>\n",
       "    <tr>\n",
       "      <th>275</th>\n",
       "      <td>Gentoo</td>\n",
       "      <td>Biscoe</td>\n",
       "      <td>49.9</td>\n",
       "      <td>16.1</td>\n",
       "      <td>213.0</td>\n",
       "      <td>5400.0</td>\n",
       "      <td>male</td>\n",
       "      <td>2009</td>\n",
       "    </tr>\n",
       "  </tbody>\n",
       "</table>\n",
       "<p>124 rows × 8 columns</p>\n",
       "</div>"
      ],
      "text/plain": [
       "    species  island  bill_length_mm  bill_depth_mm  flipper_length_mm  \\\n",
       "152  Gentoo  Biscoe            46.1           13.2              211.0   \n",
       "153  Gentoo  Biscoe            50.0           16.3              230.0   \n",
       "154  Gentoo  Biscoe            48.7           14.1              210.0   \n",
       "155  Gentoo  Biscoe            50.0           15.2              218.0   \n",
       "156  Gentoo  Biscoe            47.6           14.5              215.0   \n",
       "..      ...     ...             ...            ...                ...   \n",
       "271  Gentoo  Biscoe             NaN            NaN                NaN   \n",
       "272  Gentoo  Biscoe            46.8           14.3              215.0   \n",
       "273  Gentoo  Biscoe            50.4           15.7              222.0   \n",
       "274  Gentoo  Biscoe            45.2           14.8              212.0   \n",
       "275  Gentoo  Biscoe            49.9           16.1              213.0   \n",
       "\n",
       "     body_mass_g     sex  year  \n",
       "152       4500.0  female  2007  \n",
       "153       5700.0    male  2007  \n",
       "154       4450.0  female  2007  \n",
       "155       5700.0    male  2007  \n",
       "156       5400.0    male  2007  \n",
       "..           ...     ...   ...  \n",
       "271          NaN     NaN  2009  \n",
       "272       4850.0  female  2009  \n",
       "273       5750.0    male  2009  \n",
       "274       5200.0  female  2009  \n",
       "275       5400.0    male  2009  \n",
       "\n",
       "[124 rows x 8 columns]"
      ]
     },
     "execution_count": 65,
     "metadata": {},
     "output_type": "execute_result"
    }
   ],
   "source": [
    "gentoo_df = penguins[penguins['species']==\"Gentoo\"]\n",
    "gentoo_df"
   ]
  },
  {
   "cell_type": "code",
   "execution_count": 66,
   "id": "1b674f45-dcf5-49f0-b996-51529de7c7f1",
   "metadata": {},
   "outputs": [
    {
     "data": {
      "text/html": [
       "<div>\n",
       "<style scoped>\n",
       "    .dataframe tbody tr th:only-of-type {\n",
       "        vertical-align: middle;\n",
       "    }\n",
       "\n",
       "    .dataframe tbody tr th {\n",
       "        vertical-align: top;\n",
       "    }\n",
       "\n",
       "    .dataframe thead th {\n",
       "        text-align: right;\n",
       "    }\n",
       "</style>\n",
       "<table border=\"1\" class=\"dataframe\">\n",
       "  <thead>\n",
       "    <tr style=\"text-align: right;\">\n",
       "      <th></th>\n",
       "      <th>species</th>\n",
       "      <th>island</th>\n",
       "      <th>bill_length_mm</th>\n",
       "      <th>bill_depth_mm</th>\n",
       "      <th>flipper_length_mm</th>\n",
       "      <th>body_mass_g</th>\n",
       "      <th>sex</th>\n",
       "      <th>year</th>\n",
       "    </tr>\n",
       "  </thead>\n",
       "  <tbody>\n",
       "    <tr>\n",
       "      <th>0</th>\n",
       "      <td>Adelie</td>\n",
       "      <td>Torgersen</td>\n",
       "      <td>39.1</td>\n",
       "      <td>18.7</td>\n",
       "      <td>181.0</td>\n",
       "      <td>3750.0</td>\n",
       "      <td>male</td>\n",
       "      <td>2007</td>\n",
       "    </tr>\n",
       "    <tr>\n",
       "      <th>1</th>\n",
       "      <td>Adelie</td>\n",
       "      <td>Torgersen</td>\n",
       "      <td>39.5</td>\n",
       "      <td>17.4</td>\n",
       "      <td>186.0</td>\n",
       "      <td>3800.0</td>\n",
       "      <td>female</td>\n",
       "      <td>2007</td>\n",
       "    </tr>\n",
       "    <tr>\n",
       "      <th>2</th>\n",
       "      <td>Adelie</td>\n",
       "      <td>Torgersen</td>\n",
       "      <td>40.3</td>\n",
       "      <td>18.0</td>\n",
       "      <td>195.0</td>\n",
       "      <td>3250.0</td>\n",
       "      <td>female</td>\n",
       "      <td>2007</td>\n",
       "    </tr>\n",
       "    <tr>\n",
       "      <th>4</th>\n",
       "      <td>Adelie</td>\n",
       "      <td>Torgersen</td>\n",
       "      <td>36.7</td>\n",
       "      <td>19.3</td>\n",
       "      <td>193.0</td>\n",
       "      <td>3450.0</td>\n",
       "      <td>female</td>\n",
       "      <td>2007</td>\n",
       "    </tr>\n",
       "    <tr>\n",
       "      <th>5</th>\n",
       "      <td>Adelie</td>\n",
       "      <td>Torgersen</td>\n",
       "      <td>39.3</td>\n",
       "      <td>20.6</td>\n",
       "      <td>190.0</td>\n",
       "      <td>3650.0</td>\n",
       "      <td>male</td>\n",
       "      <td>2007</td>\n",
       "    </tr>\n",
       "    <tr>\n",
       "      <th>...</th>\n",
       "      <td>...</td>\n",
       "      <td>...</td>\n",
       "      <td>...</td>\n",
       "      <td>...</td>\n",
       "      <td>...</td>\n",
       "      <td>...</td>\n",
       "      <td>...</td>\n",
       "      <td>...</td>\n",
       "    </tr>\n",
       "    <tr>\n",
       "      <th>339</th>\n",
       "      <td>Chinstrap</td>\n",
       "      <td>Dream</td>\n",
       "      <td>55.8</td>\n",
       "      <td>19.8</td>\n",
       "      <td>207.0</td>\n",
       "      <td>4000.0</td>\n",
       "      <td>male</td>\n",
       "      <td>2009</td>\n",
       "    </tr>\n",
       "    <tr>\n",
       "      <th>340</th>\n",
       "      <td>Chinstrap</td>\n",
       "      <td>Dream</td>\n",
       "      <td>43.5</td>\n",
       "      <td>18.1</td>\n",
       "      <td>202.0</td>\n",
       "      <td>3400.0</td>\n",
       "      <td>female</td>\n",
       "      <td>2009</td>\n",
       "    </tr>\n",
       "    <tr>\n",
       "      <th>341</th>\n",
       "      <td>Chinstrap</td>\n",
       "      <td>Dream</td>\n",
       "      <td>49.6</td>\n",
       "      <td>18.2</td>\n",
       "      <td>193.0</td>\n",
       "      <td>3775.0</td>\n",
       "      <td>male</td>\n",
       "      <td>2009</td>\n",
       "    </tr>\n",
       "    <tr>\n",
       "      <th>342</th>\n",
       "      <td>Chinstrap</td>\n",
       "      <td>Dream</td>\n",
       "      <td>50.8</td>\n",
       "      <td>19.0</td>\n",
       "      <td>210.0</td>\n",
       "      <td>4100.0</td>\n",
       "      <td>male</td>\n",
       "      <td>2009</td>\n",
       "    </tr>\n",
       "    <tr>\n",
       "      <th>343</th>\n",
       "      <td>Chinstrap</td>\n",
       "      <td>Dream</td>\n",
       "      <td>50.2</td>\n",
       "      <td>18.7</td>\n",
       "      <td>198.0</td>\n",
       "      <td>3775.0</td>\n",
       "      <td>female</td>\n",
       "      <td>2009</td>\n",
       "    </tr>\n",
       "  </tbody>\n",
       "</table>\n",
       "<p>333 rows × 8 columns</p>\n",
       "</div>"
      ],
      "text/plain": [
       "       species     island  bill_length_mm  bill_depth_mm  flipper_length_mm  \\\n",
       "0       Adelie  Torgersen            39.1           18.7              181.0   \n",
       "1       Adelie  Torgersen            39.5           17.4              186.0   \n",
       "2       Adelie  Torgersen            40.3           18.0              195.0   \n",
       "4       Adelie  Torgersen            36.7           19.3              193.0   \n",
       "5       Adelie  Torgersen            39.3           20.6              190.0   \n",
       "..         ...        ...             ...            ...                ...   \n",
       "339  Chinstrap      Dream            55.8           19.8              207.0   \n",
       "340  Chinstrap      Dream            43.5           18.1              202.0   \n",
       "341  Chinstrap      Dream            49.6           18.2              193.0   \n",
       "342  Chinstrap      Dream            50.8           19.0              210.0   \n",
       "343  Chinstrap      Dream            50.2           18.7              198.0   \n",
       "\n",
       "     body_mass_g     sex  year  \n",
       "0         3750.0    male  2007  \n",
       "1         3800.0  female  2007  \n",
       "2         3250.0  female  2007  \n",
       "4         3450.0  female  2007  \n",
       "5         3650.0    male  2007  \n",
       "..           ...     ...   ...  \n",
       "339       4000.0    male  2009  \n",
       "340       3400.0  female  2009  \n",
       "341       3775.0    male  2009  \n",
       "342       4100.0    male  2009  \n",
       "343       3775.0  female  2009  \n",
       "\n",
       "[333 rows x 8 columns]"
      ]
     },
     "execution_count": 66,
     "metadata": {},
     "output_type": "execute_result"
    }
   ],
   "source": [
    "penguins[penguins[\"body_mass_g\"] >= 3000]"
   ]
  },
  {
   "cell_type": "code",
   "execution_count": 67,
   "id": "293059ea-32a5-477b-bb3b-6b72636d38e3",
   "metadata": {},
   "outputs": [
    {
     "data": {
      "text/html": [
       "<div>\n",
       "<style scoped>\n",
       "    .dataframe tbody tr th:only-of-type {\n",
       "        vertical-align: middle;\n",
       "    }\n",
       "\n",
       "    .dataframe tbody tr th {\n",
       "        vertical-align: top;\n",
       "    }\n",
       "\n",
       "    .dataframe thead th {\n",
       "        text-align: right;\n",
       "    }\n",
       "</style>\n",
       "<table border=\"1\" class=\"dataframe\">\n",
       "  <thead>\n",
       "    <tr style=\"text-align: right;\">\n",
       "      <th></th>\n",
       "      <th>species</th>\n",
       "      <th>island</th>\n",
       "      <th>bill_length_mm</th>\n",
       "      <th>bill_depth_mm</th>\n",
       "      <th>flipper_length_mm</th>\n",
       "      <th>body_mass_g</th>\n",
       "      <th>sex</th>\n",
       "      <th>year</th>\n",
       "    </tr>\n",
       "  </thead>\n",
       "  <tbody>\n",
       "    <tr>\n",
       "      <th>152</th>\n",
       "      <td>Gentoo</td>\n",
       "      <td>Biscoe</td>\n",
       "      <td>46.1</td>\n",
       "      <td>13.2</td>\n",
       "      <td>211.0</td>\n",
       "      <td>4500.0</td>\n",
       "      <td>female</td>\n",
       "      <td>2007</td>\n",
       "    </tr>\n",
       "    <tr>\n",
       "      <th>153</th>\n",
       "      <td>Gentoo</td>\n",
       "      <td>Biscoe</td>\n",
       "      <td>50.0</td>\n",
       "      <td>16.3</td>\n",
       "      <td>230.0</td>\n",
       "      <td>5700.0</td>\n",
       "      <td>male</td>\n",
       "      <td>2007</td>\n",
       "    </tr>\n",
       "    <tr>\n",
       "      <th>154</th>\n",
       "      <td>Gentoo</td>\n",
       "      <td>Biscoe</td>\n",
       "      <td>48.7</td>\n",
       "      <td>14.1</td>\n",
       "      <td>210.0</td>\n",
       "      <td>4450.0</td>\n",
       "      <td>female</td>\n",
       "      <td>2007</td>\n",
       "    </tr>\n",
       "    <tr>\n",
       "      <th>155</th>\n",
       "      <td>Gentoo</td>\n",
       "      <td>Biscoe</td>\n",
       "      <td>50.0</td>\n",
       "      <td>15.2</td>\n",
       "      <td>218.0</td>\n",
       "      <td>5700.0</td>\n",
       "      <td>male</td>\n",
       "      <td>2007</td>\n",
       "    </tr>\n",
       "    <tr>\n",
       "      <th>156</th>\n",
       "      <td>Gentoo</td>\n",
       "      <td>Biscoe</td>\n",
       "      <td>47.6</td>\n",
       "      <td>14.5</td>\n",
       "      <td>215.0</td>\n",
       "      <td>5400.0</td>\n",
       "      <td>male</td>\n",
       "      <td>2007</td>\n",
       "    </tr>\n",
       "    <tr>\n",
       "      <th>...</th>\n",
       "      <td>...</td>\n",
       "      <td>...</td>\n",
       "      <td>...</td>\n",
       "      <td>...</td>\n",
       "      <td>...</td>\n",
       "      <td>...</td>\n",
       "      <td>...</td>\n",
       "      <td>...</td>\n",
       "    </tr>\n",
       "    <tr>\n",
       "      <th>270</th>\n",
       "      <td>Gentoo</td>\n",
       "      <td>Biscoe</td>\n",
       "      <td>47.2</td>\n",
       "      <td>13.7</td>\n",
       "      <td>214.0</td>\n",
       "      <td>4925.0</td>\n",
       "      <td>female</td>\n",
       "      <td>2009</td>\n",
       "    </tr>\n",
       "    <tr>\n",
       "      <th>272</th>\n",
       "      <td>Gentoo</td>\n",
       "      <td>Biscoe</td>\n",
       "      <td>46.8</td>\n",
       "      <td>14.3</td>\n",
       "      <td>215.0</td>\n",
       "      <td>4850.0</td>\n",
       "      <td>female</td>\n",
       "      <td>2009</td>\n",
       "    </tr>\n",
       "    <tr>\n",
       "      <th>273</th>\n",
       "      <td>Gentoo</td>\n",
       "      <td>Biscoe</td>\n",
       "      <td>50.4</td>\n",
       "      <td>15.7</td>\n",
       "      <td>222.0</td>\n",
       "      <td>5750.0</td>\n",
       "      <td>male</td>\n",
       "      <td>2009</td>\n",
       "    </tr>\n",
       "    <tr>\n",
       "      <th>274</th>\n",
       "      <td>Gentoo</td>\n",
       "      <td>Biscoe</td>\n",
       "      <td>45.2</td>\n",
       "      <td>14.8</td>\n",
       "      <td>212.0</td>\n",
       "      <td>5200.0</td>\n",
       "      <td>female</td>\n",
       "      <td>2009</td>\n",
       "    </tr>\n",
       "    <tr>\n",
       "      <th>275</th>\n",
       "      <td>Gentoo</td>\n",
       "      <td>Biscoe</td>\n",
       "      <td>49.9</td>\n",
       "      <td>16.1</td>\n",
       "      <td>213.0</td>\n",
       "      <td>5400.0</td>\n",
       "      <td>male</td>\n",
       "      <td>2009</td>\n",
       "    </tr>\n",
       "  </tbody>\n",
       "</table>\n",
       "<p>123 rows × 8 columns</p>\n",
       "</div>"
      ],
      "text/plain": [
       "    species  island  bill_length_mm  bill_depth_mm  flipper_length_mm  \\\n",
       "152  Gentoo  Biscoe            46.1           13.2              211.0   \n",
       "153  Gentoo  Biscoe            50.0           16.3              230.0   \n",
       "154  Gentoo  Biscoe            48.7           14.1              210.0   \n",
       "155  Gentoo  Biscoe            50.0           15.2              218.0   \n",
       "156  Gentoo  Biscoe            47.6           14.5              215.0   \n",
       "..      ...     ...             ...            ...                ...   \n",
       "270  Gentoo  Biscoe            47.2           13.7              214.0   \n",
       "272  Gentoo  Biscoe            46.8           14.3              215.0   \n",
       "273  Gentoo  Biscoe            50.4           15.7              222.0   \n",
       "274  Gentoo  Biscoe            45.2           14.8              212.0   \n",
       "275  Gentoo  Biscoe            49.9           16.1              213.0   \n",
       "\n",
       "     body_mass_g     sex  year  \n",
       "152       4500.0  female  2007  \n",
       "153       5700.0    male  2007  \n",
       "154       4450.0  female  2007  \n",
       "155       5700.0    male  2007  \n",
       "156       5400.0    male  2007  \n",
       "..           ...     ...   ...  \n",
       "270       4925.0  female  2009  \n",
       "272       4850.0  female  2009  \n",
       "273       5750.0    male  2009  \n",
       "274       5200.0  female  2009  \n",
       "275       5400.0    male  2009  \n",
       "\n",
       "[123 rows x 8 columns]"
      ]
     },
     "execution_count": 67,
     "metadata": {},
     "output_type": "execute_result"
    }
   ],
   "source": [
    "penguins[(penguins['species']==\"Gentoo\") & (penguins[\"body_mass_g\"] >= 3000)]"
   ]
  },
  {
   "cell_type": "code",
   "execution_count": 68,
   "id": "3ece1d80-fcba-45fd-b59d-d30f9521fa5c",
   "metadata": {},
   "outputs": [
    {
     "name": "stdout",
     "output_type": "stream",
     "text": [
      "<class 'pandas.core.frame.DataFrame'>\n",
      "Index: 123 entries, 152 to 275\n",
      "Data columns (total 8 columns):\n",
      " #   Column             Non-Null Count  Dtype  \n",
      "---  ------             --------------  -----  \n",
      " 0   species            123 non-null    object \n",
      " 1   island             123 non-null    object \n",
      " 2   bill_length_mm     123 non-null    float64\n",
      " 3   bill_depth_mm      123 non-null    float64\n",
      " 4   flipper_length_mm  123 non-null    float64\n",
      " 5   body_mass_g        123 non-null    float64\n",
      " 6   sex                119 non-null    object \n",
      " 7   year               123 non-null    int64  \n",
      "dtypes: float64(4), int64(1), object(3)\n",
      "memory usage: 8.6+ KB\n"
     ]
    }
   ],
   "source": [
    "penguins[(penguins['species']==\"Gentoo\") & (penguins[\"body_mass_g\"] >= 3000)].info()"
   ]
  },
  {
   "cell_type": "code",
   "execution_count": 69,
   "id": "c52dae9c-0d33-4081-83d0-9fd05886a74e",
   "metadata": {},
   "outputs": [],
   "source": [
    "penguins['bill_length_mm'] = penguins['bill_length_mm'].fillna(penguins['bill_length_mm'].mode()[0])\n",
    "penguins['bill_depth_mm'] = penguins['bill_depth_mm'].fillna(penguins['bill_depth_mm'].mode()[0])\n",
    "penguins['flipper_length_mm'] = penguins['flipper_length_mm'].fillna(penguins['flipper_length_mm'].mode()[0])\n",
    "penguins['body_mass_g'] = penguins['body_mass_g'].fillna(penguins['body_mass_g'].mode()[0])\n",
    "penguins['sex'] = penguins['sex'].fillna(penguins['sex'].mode()[0])"
   ]
  },
  {
   "cell_type": "code",
   "execution_count": 70,
   "id": "23b12c13-55ed-404d-93a9-bcfed7d440f0",
   "metadata": {},
   "outputs": [
    {
     "data": {
      "text/plain": [
       "species              0\n",
       "island               0\n",
       "bill_length_mm       0\n",
       "bill_depth_mm        0\n",
       "flipper_length_mm    0\n",
       "body_mass_g          0\n",
       "sex                  0\n",
       "year                 0\n",
       "dtype: int64"
      ]
     },
     "execution_count": 70,
     "metadata": {},
     "output_type": "execute_result"
    }
   ],
   "source": [
    "penguins.isnull().sum()"
   ]
  },
  {
   "cell_type": "code",
   "execution_count": 71,
   "id": "babbdcbb-8403-4342-be81-ee7bee511a76",
   "metadata": {},
   "outputs": [
    {
     "name": "stdout",
     "output_type": "stream",
     "text": [
      "<class 'pandas.core.frame.DataFrame'>\n",
      "RangeIndex: 344 entries, 0 to 343\n",
      "Data columns (total 8 columns):\n",
      " #   Column             Non-Null Count  Dtype   \n",
      "---  ------             --------------  -----   \n",
      " 0   species            344 non-null    category\n",
      " 1   island             344 non-null    category\n",
      " 2   bill_length_mm     344 non-null    float64 \n",
      " 3   bill_depth_mm      344 non-null    float64 \n",
      " 4   flipper_length_mm  344 non-null    float64 \n",
      " 5   body_mass_g        344 non-null    float64 \n",
      " 6   sex                344 non-null    category\n",
      " 7   year               344 non-null    int64   \n",
      "dtypes: category(3), float64(4), int64(1)\n",
      "memory usage: 15.0 KB\n"
     ]
    }
   ],
   "source": [
    "penguins['species'] = penguins['species'].astype('category')\n",
    "penguins['island'] = penguins['island'].astype('category')\n",
    "penguins['sex'] = penguins['sex'].astype('category')\n",
    "\n",
    "penguins.info()"
   ]
  },
  {
   "cell_type": "markdown",
   "id": "b85d840f",
   "metadata": {},
   "source": [
    "<h1>DATA ANALYSIS<h1>"
   ]
  },
  {
   "cell_type": "markdown",
   "id": "4ccbe98c",
   "metadata": {},
   "source": [
    "<h1>1. WHAT SPECIES HAS THE HIGHEST AVERAGE WEIGHT OF THEM ALL<h1>"
   ]
  },
  {
   "cell_type": "code",
   "execution_count": 72,
   "id": "bf5db41f",
   "metadata": {},
   "outputs": [
    {
     "name": "stdout",
     "output_type": "stream",
     "text": [
      "the average weight of gentoo is : 5076.016260162602\n"
     ]
    }
   ],
   "source": [
    "gen_result = gentoo_df['body_mass_g'].mean()\n",
    "print(f\"the average weight of gentoo is : {gen_result}\")\n"
   ]
  },
  {
   "cell_type": "code",
   "execution_count": 73,
   "id": "4248215d",
   "metadata": {},
   "outputs": [
    {
     "name": "stdout",
     "output_type": "stream",
     "text": [
      "the average weight of adelie is : 3700.662251655629\n"
     ]
    }
   ],
   "source": [
    "adel_result = adelie_df['body_mass_g'].mean()\n",
    "print(f\"the average weight of adelie is : {adel_result}\")\n"
   ]
  },
  {
   "cell_type": "code",
   "execution_count": 74,
   "id": "84747bb5",
   "metadata": {},
   "outputs": [
    {
     "name": "stdout",
     "output_type": "stream",
     "text": [
      "the average weight of chinstrap is : 3733.0882352941176\n"
     ]
    }
   ],
   "source": [
    "chin_result = chinstrap_df['body_mass_g'].mean()\n",
    "print(f\"the average weight of chinstrap is : {chin_result}\")"
   ]
  },
  {
   "cell_type": "markdown",
   "id": "ef0ad276",
   "metadata": {},
   "source": [
    "<h3>INSIGHT : AS U CAN SEE FROM THE DATA COLLECTED THE HIGHEST AVERAGE WEIGHT GOES TO GENTOO WITH THE RESULT OF 5076.016260162602<h3>"
   ]
  },
  {
   "cell_type": "markdown",
   "id": "af9789e1",
   "metadata": {},
   "source": [
    "<h1>2. WHAT SPECIES HAS THE LOWEST AVERAGE WEIGHT OF THEM ALL<h1>"
   ]
  },
  {
   "cell_type": "code",
   "execution_count": 75,
   "id": "0f02df14",
   "metadata": {},
   "outputs": [
    {
     "name": "stdout",
     "output_type": "stream",
     "text": [
      "the average weight of gentoo is : 5076.016260162602\n",
      "the average weight of adelie is : 3700.662251655629\n",
      "the average weight of chinstrap is : 3733.0882352941176\n"
     ]
    }
   ],
   "source": [
    "gen_result = gentoo_df['body_mass_g'].mean()\n",
    "print(f\"the average weight of gentoo is : {gen_result}\")\n",
    "\n",
    "adel_result = adelie_df['body_mass_g'].mean()\n",
    "print(f\"the average weight of adelie is : {adel_result}\")\n",
    "\n",
    "chin_result = chinstrap_df['body_mass_g'].mean()\n",
    "print(f\"the average weight of chinstrap is : {chin_result}\")\n",
    "\n"
   ]
  },
  {
   "cell_type": "markdown",
   "id": "d7b01716",
   "metadata": {},
   "source": [
    "<h3> INSIGHT : AS U CAN IN THE RESULT THE LOWEST AVERAGE WEIGHT IS ADELIE WITH RESULT OF 3700.662251655629<h3>"
   ]
  },
  {
   "cell_type": "markdown",
   "id": "6e5a83b0",
   "metadata": {},
   "source": []
  },
  {
   "cell_type": "markdown",
   "id": "00afdb91",
   "metadata": {},
   "source": [
    "<h1>3. HOW MANY GENTOO DATA WAS RECORDED IN 2009<h1>"
   ]
  },
  {
   "cell_type": "code",
   "execution_count": 76,
   "id": "b2f1b167",
   "metadata": {},
   "outputs": [
    {
     "data": {
      "text/plain": [
       "year\n",
       "2008    46\n",
       "2009    44\n",
       "2007    34\n",
       "Name: count, dtype: int64"
      ]
     },
     "execution_count": 76,
     "metadata": {},
     "output_type": "execute_result"
    }
   ],
   "source": [
    "gentoo_df[\"year\"].value_counts()"
   ]
  },
  {
   "cell_type": "markdown",
   "id": "c54fe922",
   "metadata": {},
   "source": [
    "<h3>INSIGHT : U CAN SEE THAT IN 2009 THEIRS 44 WAS COLLECTED IN THAT YEAR<h3>"
   ]
  },
  {
   "cell_type": "markdown",
   "id": "9f475063",
   "metadata": {},
   "source": [
    "<h1>4. WHAT IS THE TOTAL DATA COLLECTED IN 2007<h3>"
   ]
  },
  {
   "cell_type": "code",
   "execution_count": 77,
   "id": "2988c63d",
   "metadata": {},
   "outputs": [
    {
     "data": {
      "text/plain": [
       "year\n",
       "2009    120\n",
       "2008    114\n",
       "2007    110\n",
       "Name: count, dtype: int64"
      ]
     },
     "execution_count": 77,
     "metadata": {},
     "output_type": "execute_result"
    }
   ],
   "source": [
    "penguins['year'].value_counts()"
   ]
  },
  {
   "cell_type": "markdown",
   "id": "96abd993",
   "metadata": {},
   "source": [
    "<h3> INSIGHTS : AS U CAN SEE THE DATA COLLECTED IN 2007 WAS 110<h3>"
   ]
  },
  {
   "cell_type": "markdown",
   "id": "8035e816",
   "metadata": {},
   "source": [
    "<h1>5. HOW MANY ADELIE IS ABOVE 4000G ?<h1>"
   ]
  },
  {
   "cell_type": "code",
   "execution_count": 78,
   "id": "4364a4aa",
   "metadata": {},
   "outputs": [
    {
     "name": "stdout",
     "output_type": "stream",
     "text": [
      "<class 'pandas.core.frame.DataFrame'>\n",
      "Index: 39 entries, 7 to 151\n",
      "Data columns (total 8 columns):\n",
      " #   Column             Non-Null Count  Dtype  \n",
      "---  ------             --------------  -----  \n",
      " 0   species            39 non-null     object \n",
      " 1   island             39 non-null     object \n",
      " 2   bill_length_mm     39 non-null     float64\n",
      " 3   bill_depth_mm      39 non-null     float64\n",
      " 4   flipper_length_mm  39 non-null     float64\n",
      " 5   body_mass_g        39 non-null     float64\n",
      " 6   sex                38 non-null     object \n",
      " 7   year               39 non-null     int64  \n",
      "dtypes: float64(4), int64(1), object(3)\n",
      "memory usage: 2.7+ KB\n"
     ]
    }
   ],
   "source": [
    "adelie_df[adelie_df[\"body_mass_g\"]>= 4000].info()"
   ]
  },
  {
   "cell_type": "markdown",
   "id": "11e68031",
   "metadata": {},
   "source": [
    "<h3>INSIGHTS : OUT OF 151 DATA ENTRIES, ONLY 39 OF THEM WEIGH ABOVE 4000G."
   ]
  },
  {
   "cell_type": "markdown",
   "id": "3314c6a2",
   "metadata": {},
   "source": [
    "<h1>6. HOW MANY MALE AND FEMALE PENGUINS ARE THEIR?<H1>"
   ]
  },
  {
   "cell_type": "code",
   "execution_count": 79,
   "id": "b8d16ee5",
   "metadata": {},
   "outputs": [
    {
     "data": {
      "text/plain": [
       "sex\n",
       "male      179\n",
       "female    165\n",
       "Name: count, dtype: int64"
      ]
     },
     "execution_count": 79,
     "metadata": {},
     "output_type": "execute_result"
    }
   ],
   "source": [
    "penguins['sex'].value_counts()"
   ]
  },
  {
   "cell_type": "markdown",
   "id": "44dead58",
   "metadata": {},
   "source": [
    "<h3>INSIGHTS : THEIRS 179 MALE AND 165 FOR FEMALE"
   ]
  },
  {
   "cell_type": "markdown",
   "id": "9b3f0be1",
   "metadata": {},
   "source": [
    "<H1>7. WHAT IS MOST COMMON ISLAND ?<H1>"
   ]
  },
  {
   "cell_type": "code",
   "execution_count": 80,
   "id": "7d7c4467",
   "metadata": {},
   "outputs": [
    {
     "data": {
      "text/plain": [
       "0    Biscoe\n",
       "Name: island, dtype: category\n",
       "Categories (3, object): ['Biscoe', 'Dream', 'Torgersen']"
      ]
     },
     "execution_count": 80,
     "metadata": {},
     "output_type": "execute_result"
    }
   ],
   "source": [
    "penguins['island'].mode()"
   ]
  },
  {
   "cell_type": "markdown",
   "id": "22874eaf",
   "metadata": {},
   "source": [
    "<h3>INSIGHTS : THEIRS 3 COMMON ISLAND WHICH IS BISCOE , DREAM AND TORGERSEN<h3>"
   ]
  },
  {
   "cell_type": "markdown",
   "id": "6e83c0f3-4df5-4c12-8548-2f66ee9bcd4f",
   "metadata": {},
   "source": [
    "<H1>DATA AGGREGATION</H1>"
   ]
  },
  {
   "cell_type": "markdown",
   "id": "9d598f03-46e8-445e-a828-f286eff1f0fb",
   "metadata": {},
   "source": [
    "<h3>How many species are there per island</h3>"
   ]
  },
  {
   "cell_type": "code",
   "execution_count": 81,
   "id": "2ceb6e1b-1dc7-48d8-ba1a-38a1285782aa",
   "metadata": {},
   "outputs": [
    {
     "data": {
      "text/html": [
       "<div>\n",
       "<style scoped>\n",
       "    .dataframe tbody tr th:only-of-type {\n",
       "        vertical-align: middle;\n",
       "    }\n",
       "\n",
       "    .dataframe tbody tr th {\n",
       "        vertical-align: top;\n",
       "    }\n",
       "\n",
       "    .dataframe thead th {\n",
       "        text-align: right;\n",
       "    }\n",
       "</style>\n",
       "<table border=\"1\" class=\"dataframe\">\n",
       "  <thead>\n",
       "    <tr style=\"text-align: right;\">\n",
       "      <th></th>\n",
       "      <th></th>\n",
       "      <th>bill_length_mm</th>\n",
       "      <th>bill_depth_mm</th>\n",
       "      <th>flipper_length_mm</th>\n",
       "      <th>body_mass_g</th>\n",
       "      <th>sex</th>\n",
       "      <th>year</th>\n",
       "    </tr>\n",
       "    <tr>\n",
       "      <th>species</th>\n",
       "      <th>island</th>\n",
       "      <th></th>\n",
       "      <th></th>\n",
       "      <th></th>\n",
       "      <th></th>\n",
       "      <th></th>\n",
       "      <th></th>\n",
       "    </tr>\n",
       "  </thead>\n",
       "  <tbody>\n",
       "    <tr>\n",
       "      <th rowspan=\"3\" valign=\"top\">Adelie</th>\n",
       "      <th>Biscoe</th>\n",
       "      <td>44</td>\n",
       "      <td>44</td>\n",
       "      <td>44</td>\n",
       "      <td>44</td>\n",
       "      <td>44</td>\n",
       "      <td>44</td>\n",
       "    </tr>\n",
       "    <tr>\n",
       "      <th>Dream</th>\n",
       "      <td>56</td>\n",
       "      <td>56</td>\n",
       "      <td>56</td>\n",
       "      <td>56</td>\n",
       "      <td>56</td>\n",
       "      <td>56</td>\n",
       "    </tr>\n",
       "    <tr>\n",
       "      <th>Torgersen</th>\n",
       "      <td>52</td>\n",
       "      <td>52</td>\n",
       "      <td>52</td>\n",
       "      <td>52</td>\n",
       "      <td>52</td>\n",
       "      <td>52</td>\n",
       "    </tr>\n",
       "    <tr>\n",
       "      <th rowspan=\"3\" valign=\"top\">Chinstrap</th>\n",
       "      <th>Biscoe</th>\n",
       "      <td>0</td>\n",
       "      <td>0</td>\n",
       "      <td>0</td>\n",
       "      <td>0</td>\n",
       "      <td>0</td>\n",
       "      <td>0</td>\n",
       "    </tr>\n",
       "    <tr>\n",
       "      <th>Dream</th>\n",
       "      <td>68</td>\n",
       "      <td>68</td>\n",
       "      <td>68</td>\n",
       "      <td>68</td>\n",
       "      <td>68</td>\n",
       "      <td>68</td>\n",
       "    </tr>\n",
       "    <tr>\n",
       "      <th>Torgersen</th>\n",
       "      <td>0</td>\n",
       "      <td>0</td>\n",
       "      <td>0</td>\n",
       "      <td>0</td>\n",
       "      <td>0</td>\n",
       "      <td>0</td>\n",
       "    </tr>\n",
       "    <tr>\n",
       "      <th rowspan=\"3\" valign=\"top\">Gentoo</th>\n",
       "      <th>Biscoe</th>\n",
       "      <td>124</td>\n",
       "      <td>124</td>\n",
       "      <td>124</td>\n",
       "      <td>124</td>\n",
       "      <td>124</td>\n",
       "      <td>124</td>\n",
       "    </tr>\n",
       "    <tr>\n",
       "      <th>Dream</th>\n",
       "      <td>0</td>\n",
       "      <td>0</td>\n",
       "      <td>0</td>\n",
       "      <td>0</td>\n",
       "      <td>0</td>\n",
       "      <td>0</td>\n",
       "    </tr>\n",
       "    <tr>\n",
       "      <th>Torgersen</th>\n",
       "      <td>0</td>\n",
       "      <td>0</td>\n",
       "      <td>0</td>\n",
       "      <td>0</td>\n",
       "      <td>0</td>\n",
       "      <td>0</td>\n",
       "    </tr>\n",
       "  </tbody>\n",
       "</table>\n",
       "</div>"
      ],
      "text/plain": [
       "                     bill_length_mm  bill_depth_mm  flipper_length_mm  \\\n",
       "species   island                                                        \n",
       "Adelie    Biscoe                 44             44                 44   \n",
       "          Dream                  56             56                 56   \n",
       "          Torgersen              52             52                 52   \n",
       "Chinstrap Biscoe                  0              0                  0   \n",
       "          Dream                  68             68                 68   \n",
       "          Torgersen               0              0                  0   \n",
       "Gentoo    Biscoe                124            124                124   \n",
       "          Dream                   0              0                  0   \n",
       "          Torgersen               0              0                  0   \n",
       "\n",
       "                     body_mass_g  sex  year  \n",
       "species   island                             \n",
       "Adelie    Biscoe              44   44    44  \n",
       "          Dream               56   56    56  \n",
       "          Torgersen           52   52    52  \n",
       "Chinstrap Biscoe               0    0     0  \n",
       "          Dream               68   68    68  \n",
       "          Torgersen            0    0     0  \n",
       "Gentoo    Biscoe             124  124   124  \n",
       "          Dream                0    0     0  \n",
       "          Torgersen            0    0     0  "
      ]
     },
     "execution_count": 81,
     "metadata": {},
     "output_type": "execute_result"
    }
   ],
   "source": [
    "penguins.groupby(['species','island']).count()"
   ]
  },
  {
   "cell_type": "code",
   "execution_count": 82,
   "id": "b070e448-c621-4ca3-8f54-6b188f5a916c",
   "metadata": {},
   "outputs": [
    {
     "data": {
      "text/plain": [
       "species    island     sex   \n",
       "Adelie     Biscoe     female    22\n",
       "                      male      22\n",
       "           Dream      female    27\n",
       "                      male      29\n",
       "           Torgersen  female    24\n",
       "                      male      28\n",
       "Chinstrap  Biscoe     female     0\n",
       "                      male       0\n",
       "           Dream      female    34\n",
       "                      male      34\n",
       "           Torgersen  female     0\n",
       "                      male       0\n",
       "Gentoo     Biscoe     female    58\n",
       "                      male      66\n",
       "           Dream      female     0\n",
       "                      male       0\n",
       "           Torgersen  female     0\n",
       "                      male       0\n",
       "dtype: int64"
      ]
     },
     "execution_count": 82,
     "metadata": {},
     "output_type": "execute_result"
    }
   ],
   "source": [
    "penguins.groupby(['species','island','sex']).size()"
   ]
  },
  {
   "cell_type": "markdown",
   "id": "e460caab-70df-4862-a22b-f543f66dc3d7",
   "metadata": {},
   "source": [
    "<h3>Show the collected data of all the species in each year </h3>"
   ]
  },
  {
   "cell_type": "code",
   "execution_count": 83,
   "id": "079d079c-ab7a-4a68-98a4-b9eca4920b30",
   "metadata": {},
   "outputs": [
    {
     "data": {
      "text/plain": [
       "species    year\n",
       "Adelie     2007    50\n",
       "           2008    50\n",
       "           2009    52\n",
       "Chinstrap  2007    26\n",
       "           2008    18\n",
       "           2009    24\n",
       "Gentoo     2007    34\n",
       "           2008    46\n",
       "           2009    44\n",
       "dtype: int64"
      ]
     },
     "execution_count": 83,
     "metadata": {},
     "output_type": "execute_result"
    }
   ],
   "source": [
    "penguins.groupby(['species','year']).size()"
   ]
  },
  {
   "cell_type": "code",
   "execution_count": 84,
   "id": "f95f3fde-a508-459b-8634-8fc2b5cad64d",
   "metadata": {},
   "outputs": [
    {
     "data": {
      "text/plain": [
       "year\n",
       "2007.0    50\n",
       "2008.0    50\n",
       "2009.0    52\n",
       "dtype: int64"
      ]
     },
     "execution_count": 84,
     "metadata": {},
     "output_type": "execute_result"
    }
   ],
   "source": [
    "penguins.groupby(adelie_df['year']).size()"
   ]
  },
  {
   "cell_type": "code",
   "execution_count": 85,
   "id": "e4408e3c-3777-4947-a1c5-490da479eb08",
   "metadata": {},
   "outputs": [
    {
     "data": {
      "text/plain": [
       "year  sex     island   \n",
       "2007  female  Biscoe       4345.238095\n",
       "              Dream        3446.590909\n",
       "              Torgersen    3475.000000\n",
       "      male    Biscoe       5102.173913\n",
       "              Dream        3902.083333\n",
       "              Torgersen    3958.333333\n",
       "2008  female  Biscoe       4225.806452\n",
       "              Dream        3444.117647\n",
       "              Torgersen    3518.750000\n",
       "      male    Biscoe       5006.060606\n",
       "              Dream        4114.705882\n",
       "              Torgersen    4193.750000\n",
       "2009  female  Biscoe       4403.571429\n",
       "              Dream        3447.727273\n",
       "              Torgersen    3193.750000\n",
       "      male    Biscoe       5102.343750\n",
       "              Dream        3935.227273\n",
       "              Torgersen    3784.375000\n",
       "Name: body_mass_g, dtype: float64"
      ]
     },
     "execution_count": 85,
     "metadata": {},
     "output_type": "execute_result"
    }
   ],
   "source": [
    "penguins.groupby(['year','sex','island'])['body_mass_g'].mean()"
   ]
  },
  {
   "cell_type": "code",
   "execution_count": 86,
   "id": "f5b8925d-5ebe-4efc-94d0-9e4a1f6b0bd3",
   "metadata": {},
   "outputs": [
    {
     "data": {
      "text/plain": [
       "species    sex     island   \n",
       "Adelie     female  Biscoe       3369.318182\n",
       "                   Dream        3344.444444\n",
       "                   Torgersen    3395.833333\n",
       "           male    Biscoe       4050.000000\n",
       "                   Dream        4008.620690\n",
       "                   Torgersen    3975.892857\n",
       "Chinstrap  female  Biscoe               NaN\n",
       "                   Dream        3527.205882\n",
       "                   Torgersen            NaN\n",
       "           male    Biscoe               NaN\n",
       "                   Dream        3938.970588\n",
       "                   Torgersen            NaN\n",
       "Gentoo     female  Biscoe       4679.741379\n",
       "                   Dream                NaN\n",
       "                   Torgersen            NaN\n",
       "           male    Biscoe       5404.924242\n",
       "                   Dream                NaN\n",
       "                   Torgersen            NaN\n",
       "Name: body_mass_g, dtype: float64"
      ]
     },
     "execution_count": 86,
     "metadata": {},
     "output_type": "execute_result"
    }
   ],
   "source": [
    "penguins.groupby(['species','sex','island'])['body_mass_g'].mean()"
   ]
  },
  {
   "cell_type": "code",
   "execution_count": 87,
   "id": "ae35c34f-dfae-4ecd-9816-29613cb5e34c",
   "metadata": {},
   "outputs": [
    {
     "data": {
      "text/plain": [
       "np.float64(0.8713015663447136)"
      ]
     },
     "execution_count": 87,
     "metadata": {},
     "output_type": "execute_result"
    }
   ],
   "source": [
    "penguins['body_mass_g'].corr(penguins['flipper_length_mm'])"
   ]
  },
  {
   "cell_type": "markdown",
   "id": "b68aad47",
   "metadata": {},
   "source": [
    "<h1>8. HOW MANY ADELIE PENGUINS WERE RECORDED IN 2007?<h1>"
   ]
  },
  {
   "cell_type": "code",
   "execution_count": 88,
   "id": "1445e956",
   "metadata": {},
   "outputs": [
    {
     "name": "stdout",
     "output_type": "stream",
     "text": [
      "RECORDED ADELIE IN 2007 : 50\n"
     ]
    }
   ],
   "source": [
    "\n",
    "adel_record = penguins.groupby(['species', 'year']).size()['Adelie', 2007]\n",
    "print(f\"RECORDED ADELIE IN 2007 : {adel_record}\")\n",
    "\n"
   ]
  },
  {
   "cell_type": "code",
   "execution_count": null,
   "id": "34eff6e6",
   "metadata": {},
   "outputs": [],
   "source": []
  },
  {
   "cell_type": "markdown",
   "id": "c76de344",
   "metadata": {},
   "source": [
    "<H1>9. SHOW THE AVERAGE NUMBER OF RECORDS PER SPECIES ACROSS ALL YEARS.<H1>"
   ]
  },
  {
   "cell_type": "code",
   "execution_count": 89,
   "id": "3d1257cc",
   "metadata": {},
   "outputs": [
    {
     "name": "stdout",
     "output_type": "stream",
     "text": [
      "AVERAGE NUMBER OF SPECIES ACROSS ALL YEARS : 114.66666666666667\n"
     ]
    }
   ],
   "source": [
    "avg_spec = penguins.groupby('species').size().mean()\n",
    "print(f\"AVERAGE NUMBER OF SPECIES ACROSS ALL YEARS : {avg_spec}\")\n"
   ]
  },
  {
   "cell_type": "code",
   "execution_count": null,
   "id": "0d8d08ae",
   "metadata": {},
   "outputs": [],
   "source": [
    "\n"
   ]
  },
  {
   "cell_type": "markdown",
   "id": "5fdaa5b7",
   "metadata": {},
   "source": [
    "<h1>10.WHAT IS THE AVERAGE BODY MASS PER SPECIES?<h1>"
   ]
  },
  {
   "cell_type": "code",
   "execution_count": 90,
   "id": "e09fa1cb",
   "metadata": {},
   "outputs": [
    {
     "data": {
      "text/plain": [
       "species\n",
       "Adelie       3701.315789\n",
       "Chinstrap    3733.088235\n",
       "Gentoo       5065.725806\n",
       "Name: body_mass_g, dtype: float64"
      ]
     },
     "execution_count": 90,
     "metadata": {},
     "output_type": "execute_result"
    }
   ],
   "source": [
    "penguins.groupby('species')['body_mass_g'].mean()\n"
   ]
  },
  {
   "cell_type": "code",
   "execution_count": null,
   "id": "586a6cb4",
   "metadata": {},
   "outputs": [],
   "source": []
  },
  {
   "cell_type": "markdown",
   "id": "83087528",
   "metadata": {},
   "source": [
    "<h1>11. AVERAGE BODY MASS PER YEAR<h1>"
   ]
  },
  {
   "cell_type": "code",
   "execution_count": 91,
   "id": "d1652b6d",
   "metadata": {},
   "outputs": [
    {
     "data": {
      "text/plain": [
       "year\n",
       "2007    4121.590909\n",
       "2008    4266.666667\n",
       "2009    4206.875000\n",
       "Name: body_mass_g, dtype: float64"
      ]
     },
     "execution_count": 91,
     "metadata": {},
     "output_type": "execute_result"
    }
   ],
   "source": [
    "penguins.groupby('year')['body_mass_g'].mean()\n"
   ]
  },
  {
   "cell_type": "code",
   "execution_count": null,
   "id": "38aedec7",
   "metadata": {},
   "outputs": [],
   "source": []
  },
  {
   "cell_type": "markdown",
   "id": "1e6a9e6e",
   "metadata": {},
   "source": [
    "<h1>12. HOW MANY PENGUINS WERE RECORDED ON EACH ISLAND PER YEAR?<h1>\n"
   ]
  },
  {
   "cell_type": "code",
   "execution_count": 92,
   "id": "26534ed4",
   "metadata": {},
   "outputs": [
    {
     "data": {
      "text/plain": [
       "year  island   \n",
       "2007  Biscoe       44\n",
       "      Dream        46\n",
       "      Torgersen    20\n",
       "2008  Biscoe       64\n",
       "      Dream        34\n",
       "      Torgersen    16\n",
       "2009  Biscoe       60\n",
       "      Dream        44\n",
       "      Torgersen    16\n",
       "dtype: int64"
      ]
     },
     "execution_count": 92,
     "metadata": {},
     "output_type": "execute_result"
    }
   ],
   "source": [
    "penguins.groupby(['year', 'island']).size()\n"
   ]
  },
  {
   "cell_type": "code",
   "execution_count": null,
   "id": "d3aee163",
   "metadata": {},
   "outputs": [],
   "source": []
  },
  {
   "cell_type": "markdown",
   "id": "1a81ebec",
   "metadata": {},
   "source": [
    "<h1>13.HOW MANY CHINSTRAP PENGUINS WERE RECORDED IN 2007?<h1>"
   ]
  },
  {
   "cell_type": "code",
   "execution_count": 93,
   "id": "5222db50",
   "metadata": {},
   "outputs": [
    {
     "data": {
      "text/plain": [
       "np.int64(26)"
      ]
     },
     "execution_count": 93,
     "metadata": {},
     "output_type": "execute_result"
    }
   ],
   "source": [
    "penguins.groupby(['species', 'year']).size()['Chinstrap', 2007]"
   ]
  },
  {
   "cell_type": "markdown",
   "id": "029fe19d",
   "metadata": {},
   "source": [
    "<h1>14.HOW MANY GENTOO PENGUINS WERE RECORDED IN 2007?<h1>\n"
   ]
  },
  {
   "cell_type": "code",
   "execution_count": 94,
   "id": "e5edf5c2",
   "metadata": {},
   "outputs": [
    {
     "data": {
      "text/plain": [
       "np.int64(34)"
      ]
     },
     "execution_count": 94,
     "metadata": {},
     "output_type": "execute_result"
    }
   ],
   "source": [
    "penguins.groupby(['species', 'year']).size()['Gentoo', 2007]\n"
   ]
  },
  {
   "cell_type": "markdown",
   "id": "03174ee7",
   "metadata": {},
   "source": [
    "<h1>15. What is the average body mass of each species per year?<h1>\n"
   ]
  },
  {
   "cell_type": "code",
   "execution_count": 95,
   "id": "aed9b068",
   "metadata": {},
   "outputs": [
    {
     "data": {
      "text/plain": [
       "year  species  \n",
       "2007  Adelie       3698.500000\n",
       "      Chinstrap    3694.230769\n",
       "      Gentoo       5070.588235\n",
       "2008  Adelie       3742.000000\n",
       "      Chinstrap    3800.000000\n",
       "      Gentoo       5019.565217\n",
       "2009  Adelie       3664.903846\n",
       "      Chinstrap    3725.000000\n",
       "      Gentoo       5110.227273\n",
       "Name: body_mass_g, dtype: float64"
      ]
     },
     "execution_count": 95,
     "metadata": {},
     "output_type": "execute_result"
    }
   ],
   "source": [
    "penguins.groupby(['year', 'species'])['body_mass_g'].mean()\n"
   ]
  },
  {
   "cell_type": "markdown",
   "id": "ebcae137",
   "metadata": {},
   "source": [
    "<h1>16.What is the average body mass of penguins on Dream Island by species and sex?<h1>"
   ]
  },
  {
   "cell_type": "markdown",
   "id": "4d156e82",
   "metadata": {},
   "source": []
  },
  {
   "cell_type": "code",
   "execution_count": 96,
   "id": "c2866e78",
   "metadata": {},
   "outputs": [
    {
     "data": {
      "text/plain": [
       "species    sex   \n",
       "Adelie     female    3344.444444\n",
       "           male      4008.620690\n",
       "Chinstrap  female    3527.205882\n",
       "           male      3938.970588\n",
       "Gentoo     female            NaN\n",
       "           male              NaN\n",
       "Name: body_mass_g, dtype: float64"
      ]
     },
     "execution_count": 96,
     "metadata": {},
     "output_type": "execute_result"
    }
   ],
   "source": [
    "penguins.groupby(['island', 'species', 'sex'])['body_mass_g'].mean()['Dream']\n"
   ]
  },
  {
   "cell_type": "markdown",
   "id": "4e0339f8",
   "metadata": {},
   "source": [
    "<h1>17. What is the average body mass of Adelie penguins by island and sex?<h1>"
   ]
  },
  {
   "cell_type": "code",
   "execution_count": 97,
   "id": "117ee236",
   "metadata": {},
   "outputs": [
    {
     "data": {
      "text/plain": [
       "island     sex   \n",
       "Biscoe     female    3369.318182\n",
       "           male      4050.000000\n",
       "Dream      female    3344.444444\n",
       "           male      4008.620690\n",
       "Torgersen  female    3395.833333\n",
       "           male      3975.892857\n",
       "Name: body_mass_g, dtype: float64"
      ]
     },
     "execution_count": 97,
     "metadata": {},
     "output_type": "execute_result"
    }
   ],
   "source": [
    "penguins.groupby(['species', 'island', 'sex'])['body_mass_g'].mean()['Adelie']\n"
   ]
  },
  {
   "cell_type": "markdown",
   "id": "4f82d755",
   "metadata": {},
   "source": [
    "<h1>18. What is the average body mass of Chinstrap penguins by island and sex?<h1>"
   ]
  },
  {
   "cell_type": "code",
   "execution_count": 98,
   "id": "507bf613",
   "metadata": {},
   "outputs": [
    {
     "data": {
      "text/plain": [
       "island     sex   \n",
       "Biscoe     female            NaN\n",
       "           male              NaN\n",
       "Dream      female    3527.205882\n",
       "           male      3938.970588\n",
       "Torgersen  female            NaN\n",
       "           male              NaN\n",
       "Name: body_mass_g, dtype: float64"
      ]
     },
     "execution_count": 98,
     "metadata": {},
     "output_type": "execute_result"
    }
   ],
   "source": [
    "penguins.groupby(['species', 'island', 'sex'])['body_mass_g'].mean()['Chinstrap']"
   ]
  },
  {
   "cell_type": "markdown",
   "id": "32965291",
   "metadata": {},
   "source": [
    "<h1>19. What is the average body mass of gentoo penguins by island and sex?<h1>"
   ]
  },
  {
   "cell_type": "markdown",
   "id": "892f9fe4",
   "metadata": {},
   "source": []
  },
  {
   "cell_type": "code",
   "execution_count": 99,
   "id": "83b4330e",
   "metadata": {},
   "outputs": [
    {
     "data": {
      "text/plain": [
       "island     sex   \n",
       "Biscoe     female    4679.741379\n",
       "           male      5404.924242\n",
       "Dream      female            NaN\n",
       "           male              NaN\n",
       "Torgersen  female            NaN\n",
       "           male              NaN\n",
       "Name: body_mass_g, dtype: float64"
      ]
     },
     "execution_count": 99,
     "metadata": {},
     "output_type": "execute_result"
    }
   ],
   "source": [
    "penguins.groupby(['species', 'island', 'sex'])['body_mass_g'].mean()['Gentoo']\n"
   ]
  },
  {
   "cell_type": "markdown",
   "id": "ed9f0ad3",
   "metadata": {},
   "source": [
    "<h1>20.How many Chinstrap penguins are recorded on each island by sex?<h1>\n"
   ]
  },
  {
   "cell_type": "markdown",
   "id": "3de77423",
   "metadata": {},
   "source": []
  },
  {
   "cell_type": "code",
   "execution_count": 100,
   "id": "76152405",
   "metadata": {},
   "outputs": [
    {
     "data": {
      "text/plain": [
       "island     sex   \n",
       "Biscoe     female     0\n",
       "           male       0\n",
       "Dream      female    34\n",
       "           male      34\n",
       "Torgersen  female     0\n",
       "           male       0\n",
       "dtype: int64"
      ]
     },
     "execution_count": 100,
     "metadata": {},
     "output_type": "execute_result"
    }
   ],
   "source": [
    "penguins.groupby(['species', 'island', 'sex']).size()['Chinstrap']\n"
   ]
  },
  {
   "cell_type": "markdown",
   "id": "7cd45c07",
   "metadata": {},
   "source": []
  }
 ],
 "metadata": {
  "kernelspec": {
   "display_name": "Python 3",
   "language": "python",
   "name": "python3"
  },
  "language_info": {
   "codemirror_mode": {
    "name": "ipython",
    "version": 3
   },
   "file_extension": ".py",
   "mimetype": "text/x-python",
   "name": "python",
   "nbconvert_exporter": "python",
   "pygments_lexer": "ipython3",
   "version": "3.12.6"
  }
 },
 "nbformat": 4,
 "nbformat_minor": 5
}
