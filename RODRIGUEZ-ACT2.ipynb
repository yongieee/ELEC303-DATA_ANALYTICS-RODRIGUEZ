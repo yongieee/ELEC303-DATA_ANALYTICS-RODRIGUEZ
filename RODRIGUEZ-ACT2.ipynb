{
 "cells": [
  {
   "cell_type": "markdown",
   "id": "532a45cf",
   "metadata": {},
   "source": [
    "<H1>BACHELOR OF SCIENCE IN INFORMATION TECHNOLOGY<H1>"
   ]
  },
  {
   "cell_type": "markdown",
   "id": "33d4043a",
   "metadata": {},
   "source": [
    "<H1>STUDENT ANALYSIS : MARK DAVE L RODRIGUEZ<H1>"
   ]
  },
  {
   "cell_type": "code",
   "execution_count": 2,
   "id": "0cd32263",
   "metadata": {},
   "outputs": [],
   "source": [
    "import numpy as np\n",
    "import pandas as pd\n",
    "import warnings\n",
    "warnings.filterwarnings('ignore')"
   ]
  },
  {
   "cell_type": "code",
   "execution_count": 3,
   "id": "a7ef0851",
   "metadata": {},
   "outputs": [
    {
     "data": {
      "text/html": [
       "<div>\n",
       "<style scoped>\n",
       "    .dataframe tbody tr th:only-of-type {\n",
       "        vertical-align: middle;\n",
       "    }\n",
       "\n",
       "    .dataframe tbody tr th {\n",
       "        vertical-align: top;\n",
       "    }\n",
       "\n",
       "    .dataframe thead th {\n",
       "        text-align: right;\n",
       "    }\n",
       "</style>\n",
       "<table border=\"1\" class=\"dataframe\">\n",
       "  <thead>\n",
       "    <tr style=\"text-align: right;\">\n",
       "      <th></th>\n",
       "      <th>Index</th>\n",
       "      <th>Accident_Severity</th>\n",
       "      <th>Accident Date</th>\n",
       "      <th>Latitude</th>\n",
       "      <th>Light_Conditions</th>\n",
       "      <th>District Area</th>\n",
       "      <th>Longitude</th>\n",
       "      <th>Number_of_Casualties</th>\n",
       "      <th>Number_of_Vehicles</th>\n",
       "      <th>Road_Surface_Conditions</th>\n",
       "      <th>Road_Type</th>\n",
       "      <th>Urban_or_Rural_Area</th>\n",
       "      <th>Weather_Conditions</th>\n",
       "      <th>Vehicle_Type</th>\n",
       "    </tr>\n",
       "  </thead>\n",
       "  <tbody>\n",
       "    <tr>\n",
       "      <th>0</th>\n",
       "      <td>200701BS64157</td>\n",
       "      <td>Serious</td>\n",
       "      <td>5/6/2019</td>\n",
       "      <td>51.506187</td>\n",
       "      <td>Darkness - lights lit</td>\n",
       "      <td>Kensington and Chelsea</td>\n",
       "      <td>-0.209082</td>\n",
       "      <td>1</td>\n",
       "      <td>2</td>\n",
       "      <td>Dry</td>\n",
       "      <td>Single carriageway</td>\n",
       "      <td>Urban</td>\n",
       "      <td>Fine no high winds</td>\n",
       "      <td>Car</td>\n",
       "    </tr>\n",
       "    <tr>\n",
       "      <th>1</th>\n",
       "      <td>200701BS65737</td>\n",
       "      <td>Serious</td>\n",
       "      <td>2/7/2019</td>\n",
       "      <td>51.495029</td>\n",
       "      <td>Daylight</td>\n",
       "      <td>Kensington and Chelsea</td>\n",
       "      <td>-0.173647</td>\n",
       "      <td>1</td>\n",
       "      <td>2</td>\n",
       "      <td>Wet or damp</td>\n",
       "      <td>Single carriageway</td>\n",
       "      <td>Urban</td>\n",
       "      <td>Raining no high winds</td>\n",
       "      <td>Car</td>\n",
       "    </tr>\n",
       "    <tr>\n",
       "      <th>2</th>\n",
       "      <td>200701BS66127</td>\n",
       "      <td>Serious</td>\n",
       "      <td>26-08-2019</td>\n",
       "      <td>51.517715</td>\n",
       "      <td>Darkness - lighting unknown</td>\n",
       "      <td>Kensington and Chelsea</td>\n",
       "      <td>-0.210215</td>\n",
       "      <td>1</td>\n",
       "      <td>3</td>\n",
       "      <td>Dry</td>\n",
       "      <td>NaN</td>\n",
       "      <td>Urban</td>\n",
       "      <td>NaN</td>\n",
       "      <td>Taxi/Private hire car</td>\n",
       "    </tr>\n",
       "    <tr>\n",
       "      <th>3</th>\n",
       "      <td>200701BS66128</td>\n",
       "      <td>Serious</td>\n",
       "      <td>16-08-2019</td>\n",
       "      <td>51.495478</td>\n",
       "      <td>Daylight</td>\n",
       "      <td>Kensington and Chelsea</td>\n",
       "      <td>-0.202731</td>\n",
       "      <td>1</td>\n",
       "      <td>4</td>\n",
       "      <td>Dry</td>\n",
       "      <td>Single carriageway</td>\n",
       "      <td>Urban</td>\n",
       "      <td>Fine no high winds</td>\n",
       "      <td>Bus or coach (17 or more pass seats)</td>\n",
       "    </tr>\n",
       "    <tr>\n",
       "      <th>4</th>\n",
       "      <td>200701BS66837</td>\n",
       "      <td>Slight</td>\n",
       "      <td>3/9/2019</td>\n",
       "      <td>51.488576</td>\n",
       "      <td>Darkness - lights lit</td>\n",
       "      <td>Kensington and Chelsea</td>\n",
       "      <td>-0.192487</td>\n",
       "      <td>1</td>\n",
       "      <td>2</td>\n",
       "      <td>Dry</td>\n",
       "      <td>NaN</td>\n",
       "      <td>Urban</td>\n",
       "      <td>NaN</td>\n",
       "      <td>Other vehicle</td>\n",
       "    </tr>\n",
       "    <tr>\n",
       "      <th>...</th>\n",
       "      <td>...</td>\n",
       "      <td>...</td>\n",
       "      <td>...</td>\n",
       "      <td>...</td>\n",
       "      <td>...</td>\n",
       "      <td>...</td>\n",
       "      <td>...</td>\n",
       "      <td>...</td>\n",
       "      <td>...</td>\n",
       "      <td>...</td>\n",
       "      <td>...</td>\n",
       "      <td>...</td>\n",
       "      <td>...</td>\n",
       "      <td>...</td>\n",
       "    </tr>\n",
       "    <tr>\n",
       "      <th>660674</th>\n",
       "      <td>201091NM01760</td>\n",
       "      <td>Slight</td>\n",
       "      <td>18-02-2022</td>\n",
       "      <td>57.374005</td>\n",
       "      <td>Daylight</td>\n",
       "      <td>Highland</td>\n",
       "      <td>-3.467828</td>\n",
       "      <td>2</td>\n",
       "      <td>1</td>\n",
       "      <td>Dry</td>\n",
       "      <td>Single carriageway</td>\n",
       "      <td>Rural</td>\n",
       "      <td>Fine no high winds</td>\n",
       "      <td>Car</td>\n",
       "    </tr>\n",
       "    <tr>\n",
       "      <th>660675</th>\n",
       "      <td>201091NM01881</td>\n",
       "      <td>Slight</td>\n",
       "      <td>21-02-2022</td>\n",
       "      <td>57.232273</td>\n",
       "      <td>Darkness - no lighting</td>\n",
       "      <td>Highland</td>\n",
       "      <td>-3.809281</td>\n",
       "      <td>1</td>\n",
       "      <td>1</td>\n",
       "      <td>Frost or ice</td>\n",
       "      <td>Single carriageway</td>\n",
       "      <td>Rural</td>\n",
       "      <td>Fine no high winds</td>\n",
       "      <td>Car</td>\n",
       "    </tr>\n",
       "    <tr>\n",
       "      <th>660676</th>\n",
       "      <td>201091NM01935</td>\n",
       "      <td>Slight</td>\n",
       "      <td>23-02-2022</td>\n",
       "      <td>57.585044</td>\n",
       "      <td>Daylight</td>\n",
       "      <td>Highland</td>\n",
       "      <td>-3.862727</td>\n",
       "      <td>1</td>\n",
       "      <td>3</td>\n",
       "      <td>Frost or ice</td>\n",
       "      <td>Single carriageway</td>\n",
       "      <td>Rural</td>\n",
       "      <td>Fine no high winds</td>\n",
       "      <td>Car</td>\n",
       "    </tr>\n",
       "    <tr>\n",
       "      <th>660677</th>\n",
       "      <td>201091NM01964</td>\n",
       "      <td>Serious</td>\n",
       "      <td>23-02-2022</td>\n",
       "      <td>57.214898</td>\n",
       "      <td>Darkness - no lighting</td>\n",
       "      <td>Highland</td>\n",
       "      <td>-3.823997</td>\n",
       "      <td>1</td>\n",
       "      <td>2</td>\n",
       "      <td>Wet or damp</td>\n",
       "      <td>Single carriageway</td>\n",
       "      <td>Rural</td>\n",
       "      <td>Fine no high winds</td>\n",
       "      <td>Motorcycle over 500cc</td>\n",
       "    </tr>\n",
       "    <tr>\n",
       "      <th>660678</th>\n",
       "      <td>201091NM02142</td>\n",
       "      <td>Serious</td>\n",
       "      <td>28-02-2022</td>\n",
       "      <td>57.575210</td>\n",
       "      <td>Daylight</td>\n",
       "      <td>Highland</td>\n",
       "      <td>-3.895673</td>\n",
       "      <td>1</td>\n",
       "      <td>1</td>\n",
       "      <td>Wet or damp</td>\n",
       "      <td>Dual carriageway</td>\n",
       "      <td>Rural</td>\n",
       "      <td>Snowing no high winds</td>\n",
       "      <td>Car</td>\n",
       "    </tr>\n",
       "  </tbody>\n",
       "</table>\n",
       "<p>660679 rows × 14 columns</p>\n",
       "</div>"
      ],
      "text/plain": [
       "                Index Accident_Severity Accident Date   Latitude  \\\n",
       "0       200701BS64157           Serious      5/6/2019  51.506187   \n",
       "1       200701BS65737           Serious      2/7/2019  51.495029   \n",
       "2       200701BS66127           Serious    26-08-2019  51.517715   \n",
       "3       200701BS66128           Serious    16-08-2019  51.495478   \n",
       "4       200701BS66837            Slight      3/9/2019  51.488576   \n",
       "...               ...               ...           ...        ...   \n",
       "660674  201091NM01760            Slight    18-02-2022  57.374005   \n",
       "660675  201091NM01881            Slight    21-02-2022  57.232273   \n",
       "660676  201091NM01935            Slight    23-02-2022  57.585044   \n",
       "660677  201091NM01964           Serious    23-02-2022  57.214898   \n",
       "660678  201091NM02142           Serious    28-02-2022  57.575210   \n",
       "\n",
       "                   Light_Conditions           District Area  Longitude  \\\n",
       "0             Darkness - lights lit  Kensington and Chelsea  -0.209082   \n",
       "1                          Daylight  Kensington and Chelsea  -0.173647   \n",
       "2       Darkness - lighting unknown  Kensington and Chelsea  -0.210215   \n",
       "3                          Daylight  Kensington and Chelsea  -0.202731   \n",
       "4             Darkness - lights lit  Kensington and Chelsea  -0.192487   \n",
       "...                             ...                     ...        ...   \n",
       "660674                     Daylight                Highland  -3.467828   \n",
       "660675       Darkness - no lighting                Highland  -3.809281   \n",
       "660676                     Daylight                Highland  -3.862727   \n",
       "660677       Darkness - no lighting                Highland  -3.823997   \n",
       "660678                     Daylight                Highland  -3.895673   \n",
       "\n",
       "        Number_of_Casualties  Number_of_Vehicles Road_Surface_Conditions  \\\n",
       "0                          1                   2                     Dry   \n",
       "1                          1                   2             Wet or damp   \n",
       "2                          1                   3                     Dry   \n",
       "3                          1                   4                     Dry   \n",
       "4                          1                   2                     Dry   \n",
       "...                      ...                 ...                     ...   \n",
       "660674                     2                   1                     Dry   \n",
       "660675                     1                   1            Frost or ice   \n",
       "660676                     1                   3            Frost or ice   \n",
       "660677                     1                   2             Wet or damp   \n",
       "660678                     1                   1             Wet or damp   \n",
       "\n",
       "                 Road_Type Urban_or_Rural_Area     Weather_Conditions  \\\n",
       "0       Single carriageway               Urban     Fine no high winds   \n",
       "1       Single carriageway               Urban  Raining no high winds   \n",
       "2                      NaN               Urban                    NaN   \n",
       "3       Single carriageway               Urban     Fine no high winds   \n",
       "4                      NaN               Urban                    NaN   \n",
       "...                    ...                 ...                    ...   \n",
       "660674  Single carriageway               Rural     Fine no high winds   \n",
       "660675  Single carriageway               Rural     Fine no high winds   \n",
       "660676  Single carriageway               Rural     Fine no high winds   \n",
       "660677  Single carriageway               Rural     Fine no high winds   \n",
       "660678    Dual carriageway               Rural  Snowing no high winds   \n",
       "\n",
       "                                Vehicle_Type  \n",
       "0                                        Car  \n",
       "1                                        Car  \n",
       "2                      Taxi/Private hire car  \n",
       "3       Bus or coach (17 or more pass seats)  \n",
       "4                              Other vehicle  \n",
       "...                                      ...  \n",
       "660674                                   Car  \n",
       "660675                                   Car  \n",
       "660676                                   Car  \n",
       "660677                 Motorcycle over 500cc  \n",
       "660678                                   Car  \n",
       "\n",
       "[660679 rows x 14 columns]"
      ]
     },
     "execution_count": 3,
     "metadata": {},
     "output_type": "execute_result"
    }
   ],
   "source": [
    "\n",
    "\n",
    "uk_road_accident = pd.read_csv(r\"C:\\Users\\CLIENT\\Downloads\\uk_road_accident.csv\")\n",
    "uk_road_accident\n"
   ]
  },
  {
   "cell_type": "markdown",
   "id": "9f00f6f3",
   "metadata": {},
   "source": [
    "<h1>1. Average number of casualties per accident<h1>"
   ]
  },
  {
   "cell_type": "code",
   "execution_count": 4,
   "id": "0048d29d",
   "metadata": {},
   "outputs": [
    {
     "name": "stdout",
     "output_type": "stream",
     "text": [
      "Average number of casualties per accident: 1.357040257068864\n"
     ]
    }
   ],
   "source": [
    "print(\"Average number of casualties per accident:\", uk_road_accident[\"Number_of_Casualties\"].mean())"
   ]
  },
  {
   "cell_type": "markdown",
   "id": "b87a8bfd",
   "metadata": {},
   "source": [
    "<h1>INSIGHT : The result shows the typical number of casualties per accident, giving an idea of how severe accidents generally are in the dataset.<h1>"
   ]
  },
  {
   "cell_type": "markdown",
   "id": "578ad0b9",
   "metadata": {},
   "source": [
    "<H1>2. Average number of vehicles per accident<H1>"
   ]
  },
  {
   "cell_type": "code",
   "execution_count": 5,
   "id": "475d9abe",
   "metadata": {},
   "outputs": [
    {
     "name": "stdout",
     "output_type": "stream",
     "text": [
      "Average number of vehicles per accident: 1.8312554205597575\n"
     ]
    }
   ],
   "source": [
    "print(\"Average number of vehicles per accident:\", uk_road_accident[\"Number_of_Vehicles\"].mean())"
   ]
  },
  {
   "cell_type": "markdown",
   "id": "9f5e1267",
   "metadata": {},
   "source": [
    "<h1>Insight: The average number of vehicles per accident shows whether crashes usually involve one vehicle or multiple vehicles.</h1>"
   ]
  },
  {
   "cell_type": "markdown",
   "id": "59a81510",
   "metadata": {},
   "source": [
    "<H1>3.Most frequent Accident Severity<H1>"
   ]
  },
  {
   "cell_type": "code",
   "execution_count": 6,
   "id": "3620a7bd",
   "metadata": {},
   "outputs": [
    {
     "name": "stdout",
     "output_type": "stream",
     "text": [
      "Most frequent Accident Severity: Accident_Severity\n",
      "Slight     563801\n",
      "Serious     88217\n",
      "Fatal        8661\n",
      "Name: count, dtype: int64\n"
     ]
    }
   ],
   "source": [
    "print(\"Most frequent Accident Severity:\", uk_road_accident[\"Accident_Severity\"].value_counts())"
   ]
  },
  {
   "cell_type": "markdown",
   "id": "b9309c90",
   "metadata": {},
   "source": [
    "<h1>Insight : The most frequent accident severity reveals if accidents are mostly slight, serious, or fatal.</h1>"
   ]
  },
  {
   "cell_type": "markdown",
   "id": "c68ea850",
   "metadata": {},
   "source": [
    "<H1>4.Least frequent Accident Severity<H1>"
   ]
  },
  {
   "cell_type": "code",
   "execution_count": 7,
   "id": "28375fbb",
   "metadata": {},
   "outputs": [
    {
     "name": "stdout",
     "output_type": "stream",
     "text": [
      "Q4: Least frequent Accident Severity: Accident_Severity\n",
      "Slight     563801\n",
      "Serious     88217\n",
      "Fatal        8661\n",
      "Name: count, dtype: int64\n"
     ]
    }
   ],
   "source": [
    "print(\"Q4: Least frequent Accident Severity:\", uk_road_accident[\"Accident_Severity\"].value_counts())"
   ]
  },
  {
   "cell_type": "markdown",
   "id": "469b7d8b",
   "metadata": {},
   "source": [
    "<h1>Insight : The least frequent accident severity shows the rarest crash outcome, helping to identify uncommon risks.</h1>"
   ]
  },
  {
   "cell_type": "markdown",
   "id": "98660001",
   "metadata": {},
   "source": [
    "<H1>5 . Most common Weather Condition<H1>"
   ]
  },
  {
   "cell_type": "code",
   "execution_count": 8,
   "id": "198b28ea",
   "metadata": {},
   "outputs": [
    {
     "name": "stdout",
     "output_type": "stream",
     "text": [
      "Most common Weather Condition:\n",
      "\n",
      " Weather_Conditions\n",
      "Fine no high winds       520885\n",
      "Raining no high winds     79696\n",
      "Other                     17150\n",
      "Raining + high winds       9615\n",
      "Fine + high winds          8554\n",
      "Snowing no high winds      6238\n",
      "Fog or mist                3528\n",
      "Snowing + high winds        885\n",
      "Name: count, dtype: int64\n"
     ]
    }
   ],
   "source": [
    "print(\"Most common Weather Condition:\\n\\n\",uk_road_accident[\"Weather_Conditions\"].value_counts())"
   ]
  },
  {
   "cell_type": "markdown",
   "id": "173b89df",
   "metadata": {},
   "source": [
    "<h1>Insight : The most common weather condition during accidents highlights how climate affects road safety.</h1>"
   ]
  },
  {
   "cell_type": "markdown",
   "id": "6132f24f",
   "metadata": {},
   "source": [
    "<h1>6. Least common Weather Condition<h1>"
   ]
  },
  {
   "cell_type": "code",
   "execution_count": 9,
   "id": "5e9a7a99",
   "metadata": {},
   "outputs": [
    {
     "name": "stdout",
     "output_type": "stream",
     "text": [
      "Least common Weather Condition:\n",
      "\n",
      " Weather_Conditions\n",
      "Fine no high winds       520885\n",
      "Raining no high winds     79696\n",
      "Other                     17150\n",
      "Raining + high winds       9615\n",
      "Fine + high winds          8554\n",
      "Snowing no high winds      6238\n",
      "Fog or mist                3528\n",
      "Snowing + high winds        885\n",
      "Name: count, dtype: int64\n"
     ]
    }
   ],
   "source": [
    "print(\"Least common Weather Condition:\\n\\n\", uk_road_accident[\"Weather_Conditions\"].value_counts())"
   ]
  },
  {
   "cell_type": "markdown",
   "id": "f184db0b",
   "metadata": {},
   "source": [
    "<h1>Insight : The least common weather condition shows when accidents are least likely to happen.</h1>"
   ]
  },
  {
   "cell_type": "markdown",
   "id": "979c8447",
   "metadata": {},
   "source": [
    "<h1>7.  Most frequent Road Surface Condition<h1>"
   ]
  },
  {
   "cell_type": "code",
   "execution_count": 10,
   "id": "55df9044",
   "metadata": {},
   "outputs": [
    {
     "name": "stdout",
     "output_type": "stream",
     "text": [
      "Most frequent Road Surface Condition: Road_Surface_Conditions\n",
      "Dry                     447821\n",
      "Wet or damp             186708\n",
      "Frost or ice             18517\n",
      "Snow                      5890\n",
      "Flood over 3cm. deep      1017\n",
      "Name: count, dtype: int64\n"
     ]
    }
   ],
   "source": [
    "print(\"Most frequent Road Surface Condition:\", uk_road_accident[\"Road_Surface_Conditions\"].value_counts())"
   ]
  },
  {
   "cell_type": "markdown",
   "id": "5972c047",
   "metadata": {},
   "source": [
    "<h1>Insight : The most frequent road surface condition indicates which surface (dry, wet, icy) is most associated with crashes.</h1>"
   ]
  },
  {
   "cell_type": "markdown",
   "id": "e8d07094",
   "metadata": {},
   "source": [
    "<h1>8. Least frequent Road Surface Condition<h1>"
   ]
  },
  {
   "cell_type": "code",
   "execution_count": 11,
   "id": "ab23ea26",
   "metadata": {},
   "outputs": [
    {
     "name": "stdout",
     "output_type": "stream",
     "text": [
      "Least frequent Road Surface Condition:\n",
      "\n",
      " Road_Surface_Conditions\n",
      "Dry                     447821\n",
      "Wet or damp             186708\n",
      "Frost or ice             18517\n",
      "Snow                      5890\n",
      "Flood over 3cm. deep      1017\n",
      "Name: count, dtype: int64\n"
     ]
    }
   ],
   "source": [
    "print(\"Least frequent Road Surface Condition:\\n\\n\", uk_road_accident[\"Road_Surface_Conditions\"].value_counts())"
   ]
  },
  {
   "cell_type": "markdown",
   "id": "e600c3cc",
   "metadata": {},
   "source": [
    "<h1>Insight : The least frequent road surface condition reveals where accidents are least likely to occur.</h1>"
   ]
  },
  {
   "cell_type": "markdown",
   "id": "efa1d12e",
   "metadata": {},
   "source": [
    "<h1> 9. Most common Road Type <h1>"
   ]
  },
  {
   "cell_type": "code",
   "execution_count": 12,
   "id": "1609cd4a",
   "metadata": {},
   "outputs": [
    {
     "name": "stdout",
     "output_type": "stream",
     "text": [
      "Most common Road Type: Road_Type\n",
      "Single carriageway    492143\n",
      "Dual carriageway       99424\n",
      "Roundabout             43992\n",
      "One way street         13559\n",
      "Slip road               7041\n",
      "Name: count, dtype: int64\n"
     ]
    }
   ],
   "source": [
    "print(\"Most common Road Type:\", uk_road_accident[\"Road_Type\"].value_counts())"
   ]
  },
  {
   "cell_type": "markdown",
   "id": "b2db7671",
   "metadata": {},
   "source": [
    "<h1>Insight : The most common road type highlights whether crashes happen more often on motorways, single carriageways, or other roads.</h1>"
   ]
  },
  {
   "cell_type": "markdown",
   "id": "8d8687dc",
   "metadata": {},
   "source": [
    "<h1>10. Least common Road Type<h1>"
   ]
  },
  {
   "cell_type": "code",
   "execution_count": 13,
   "id": "e9ee67bf",
   "metadata": {},
   "outputs": [
    {
     "name": "stdout",
     "output_type": "stream",
     "text": [
      "Least common Road Type: Road_Type\n",
      "Single carriageway    492143\n",
      "Dual carriageway       99424\n",
      "Roundabout             43992\n",
      "One way street         13559\n",
      "Slip road               7041\n",
      "Name: count, dtype: int64\n"
     ]
    }
   ],
   "source": [
    "print(\"Least common Road Type:\", uk_road_accident[\"Road_Type\"].value_counts())"
   ]
  },
  {
   "cell_type": "markdown",
   "id": "80cd6bff",
   "metadata": {},
   "source": [
    "<h1>Insight : The least common road type shows which roads experience fewer accidents.</h1>"
   ]
  },
  {
   "cell_type": "markdown",
   "id": "7f08b61c",
   "metadata": {},
   "source": [
    "<h1>11. Most frequent Light Condition<h1>"
   ]
  },
  {
   "cell_type": "code",
   "execution_count": 14,
   "id": "14b6d072",
   "metadata": {},
   "outputs": [
    {
     "name": "stdout",
     "output_type": "stream",
     "text": [
      "Most frequent Light Condition: Light_Conditions\n",
      "Daylight                       484880\n",
      "Darkness - lights lit          129335\n",
      "Darkness - no lighting          37437\n",
      "Darkness - lighting unknown      6484\n",
      "Darkness - lights unlit          2543\n",
      "Name: count, dtype: int64\n"
     ]
    }
   ],
   "source": [
    "print(\"Most frequent Light Condition:\", uk_road_accident[\"Light_Conditions\"].value_counts())"
   ]
  },
  {
   "cell_type": "markdown",
   "id": "1d9ad085",
   "metadata": {},
   "source": [
    "<h1>Insight : The most frequent light condition shows whether crashes happen more in daylight, darkness, or poor lighting.</h1>"
   ]
  },
  {
   "cell_type": "markdown",
   "id": "b4449286",
   "metadata": {},
   "source": [
    "<h1>12 . Least frequent Light Condition<h1>"
   ]
  },
  {
   "cell_type": "code",
   "execution_count": 15,
   "id": "2a659bad",
   "metadata": {},
   "outputs": [
    {
     "name": "stdout",
     "output_type": "stream",
     "text": [
      "Q12: Least frequent Light Condition: Light_Conditions\n",
      "Daylight                       484880\n",
      "Darkness - lights lit          129335\n",
      "Darkness - no lighting          37437\n",
      "Darkness - lighting unknown      6484\n",
      "Darkness - lights unlit          2543\n",
      "Name: count, dtype: int64\n"
     ]
    }
   ],
   "source": [
    "print(\"Q12: Least frequent Light Condition:\", uk_road_accident[\"Light_Conditions\"].value_counts())"
   ]
  },
  {
   "cell_type": "markdown",
   "id": "4d265eee",
   "metadata": {},
   "source": [
    "<h1>Insight : The least frequent light condition indicates the lighting environment least associated with crashes.</h1>"
   ]
  },
  {
   "cell_type": "markdown",
   "id": "c3aeceb9",
   "metadata": {},
   "source": [
    "<h1>13 .  Average accident location latitude and longitude<h1>"
   ]
  },
  {
   "cell_type": "code",
   "execution_count": 16,
   "id": "c38a875b",
   "metadata": {},
   "outputs": [
    {
     "name": "stdout",
     "output_type": "stream",
     "text": [
      "LATITUDE :\n",
      "Average accident latitude: 52.553865761110956\n",
      "LONGITUDE :\n",
      "Average accident longitude: -1.4312103685020727\n"
     ]
    }
   ],
   "source": [
    "print(\"LATITUDE :\")\n",
    "print(\"Average accident latitude:\", uk_road_accident[\"Latitude\"].mean())\n",
    "print(\"LONGITUDE :\")\n",
    "print(\"Average accident longitude:\", uk_road_accident[\"Longitude\"].mean())"
   ]
  },
  {
   "cell_type": "markdown",
   "id": "09cfa809",
   "metadata": {},
   "source": [
    "<h1>Insight: The average accident location is around latitude 52.55 and longitude -1.43, meaning most accidents occur near the central region of the UK.</h1>\n"
   ]
  },
  {
   "cell_type": "markdown",
   "id": "1b74465a",
   "metadata": {},
   "source": [
    "<H1>14 . Area (Urban/Rural) with most accidents<H1>"
   ]
  },
  {
   "cell_type": "code",
   "execution_count": 17,
   "id": "307e2057",
   "metadata": {},
   "outputs": [
    {
     "name": "stdout",
     "output_type": "stream",
     "text": [
      "Area with most accidents: Urban_or_Rural_Area\n",
      "Urban          421663\n",
      "Rural          238990\n",
      "Unallocated        11\n",
      "Name: count, dtype: int64\n"
     ]
    }
   ],
   "source": [
    "print(\"Area with most accidents:\", uk_road_accident[\"Urban_or_Rural_Area\"].value_counts())"
   ]
  },
  {
   "cell_type": "markdown",
   "id": "35ad4921",
   "metadata": {},
   "source": [
    "<h1>Insight : The area with the most accidents urban or rural highlights where road incidents are concentrated.</h1>"
   ]
  },
  {
   "cell_type": "markdown",
   "id": "73849586",
   "metadata": {},
   "source": [
    "<H1>15. Area (Urban/Rural) with least accidents<H1>"
   ]
  },
  {
   "cell_type": "code",
   "execution_count": 18,
   "id": "c985d02c",
   "metadata": {},
   "outputs": [
    {
     "name": "stdout",
     "output_type": "stream",
     "text": [
      "Area with least accidents: Urban_or_Rural_Area\n",
      "Urban          421663\n",
      "Rural          238990\n",
      "Unallocated        11\n",
      "Name: count, dtype: int64\n"
     ]
    }
   ],
   "source": [
    "print(\"Area with least accidents:\", uk_road_accident[\"Urban_or_Rural_Area\"].value_counts())"
   ]
  },
  {
   "cell_type": "markdown",
   "id": "a849ff2c",
   "metadata": {},
   "source": [
    "<h1>Insight Q13: The area with the least accidents shows where crashes happen less often.</h1>"
   ]
  },
  {
   "cell_type": "markdown",
   "id": "4800d405",
   "metadata": {},
   "source": [
    "<H1>16 .Most frequent vehicle type<H1>"
   ]
  },
  {
   "cell_type": "code",
   "execution_count": 19,
   "id": "8001d072",
   "metadata": {},
   "outputs": [
    {
     "name": "stdout",
     "output_type": "stream",
     "text": [
      "Most frequent vehicle type: Vehicle_Type\n",
      "Car                                      497992\n",
      "Van / Goods 3.5 tonnes mgw or under       34160\n",
      "Bus or coach (17 or more pass seats)      25878\n",
      "Motorcycle over 500cc                     25657\n",
      "Goods 7.5 tonnes mgw and over             17307\n",
      "Motorcycle 125cc and under                15269\n",
      "Taxi/Private hire car                     13294\n",
      "Motorcycle over 125cc and up to 500cc      7656\n",
      "Motorcycle 50cc and under                  7603\n",
      "Goods over 3.5t. and under 7.5t            6096\n",
      "Other vehicle                              5637\n",
      "Minibus (8 - 16 passenger seats)           1976\n",
      "Agricultural vehicle                       1947\n",
      "Pedal cycle                                 197\n",
      "Data missing or out of range                  6\n",
      "Ridden horse                                  4\n",
      "Name: count, dtype: int64\n"
     ]
    }
   ],
   "source": [
    "print(\"Most frequent vehicle type:\", uk_road_accident[\"Vehicle_Type\"].value_counts())"
   ]
  },
  {
   "cell_type": "markdown",
   "id": "9c3089ca",
   "metadata": {},
   "source": [
    "<h1>Insight : The most frequent vehicle type in accidents shows which vehicles are most at risk on the road.</h1>"
   ]
  },
  {
   "cell_type": "markdown",
   "id": "18292c61",
   "metadata": {},
   "source": [
    "<H1>17. Average number of casualties for each Accident Severity category<H1>"
   ]
  },
  {
   "cell_type": "code",
   "execution_count": 20,
   "id": "207e0d0b",
   "metadata": {},
   "outputs": [
    {
     "name": "stdout",
     "output_type": "stream",
     "text": [
      "Accident_Severity\n",
      "Fatal      1.903129\n",
      "Serious    1.467280\n",
      "Slight     1.331402\n",
      "Name: Number_of_Casualties, dtype: float64\n"
     ]
    }
   ],
   "source": [
    "\n",
    "print(uk_road_accident.groupby(\"Accident_Severity\")[\"Number_of_Casualties\"].mean())"
   ]
  },
  {
   "cell_type": "markdown",
   "id": "82f5848a",
   "metadata": {},
   "source": [
    "<h1>Insight : The average number of casualties per accident severity reveals how seriousness affects the number of people injured.</h1>"
   ]
  },
  {
   "cell_type": "markdown",
   "id": "57581750",
   "metadata": {},
   "source": [
    "<H1>18 .  District Area with most accidents<H1>"
   ]
  },
  {
   "cell_type": "code",
   "execution_count": 21,
   "id": "bfe93423",
   "metadata": {},
   "outputs": [
    {
     "name": "stdout",
     "output_type": "stream",
     "text": [
      "Q18: District Area with most accidents: District Area\n",
      "Birmingham            13491\n",
      "Leeds                  8898\n",
      "Manchester             6720\n",
      "Bradford               6212\n",
      "Sheffield              5710\n",
      "                      ...  \n",
      "Berwick-upon-Tweed      153\n",
      "Teesdale                142\n",
      "Shetland Islands        133\n",
      "Orkney Islands          117\n",
      "Clackmannanshire         91\n",
      "Name: count, Length: 422, dtype: int64\n"
     ]
    }
   ],
   "source": [
    "print(\"Q18: District Area with most accidents:\", uk_road_accident[\"District Area\"].value_counts())"
   ]
  },
  {
   "cell_type": "markdown",
   "id": "f0ac6366",
   "metadata": {},
   "source": [
    "<h1>Insight : The district area with the most accidents shows which locality faces the greatest road safety challenge.</h1>"
   ]
  },
  {
   "cell_type": "markdown",
   "id": "1e45bb96",
   "metadata": {},
   "source": [
    "<H1>19.District Area with least accidents<H1>"
   ]
  },
  {
   "cell_type": "code",
   "execution_count": 22,
   "id": "c56bb9a7",
   "metadata": {},
   "outputs": [
    {
     "name": "stdout",
     "output_type": "stream",
     "text": [
      " District Area with least accidents: District Area\n",
      "Birmingham            13491\n",
      "Leeds                  8898\n",
      "Manchester             6720\n",
      "Bradford               6212\n",
      "Sheffield              5710\n",
      "                      ...  \n",
      "Berwick-upon-Tweed      153\n",
      "Teesdale                142\n",
      "Shetland Islands        133\n",
      "Orkney Islands          117\n",
      "Clackmannanshire         91\n",
      "Name: count, Length: 422, dtype: int64\n"
     ]
    }
   ],
   "source": [
    "print(\" District Area with least accidents:\", uk_road_accident[\"District Area\"].value_counts())"
   ]
  },
  {
   "cell_type": "markdown",
   "id": "8a11fc9f",
   "metadata": {},
   "source": [
    "<h1>Insight : The district area with the least accidents shows where crashes are rarest.</h1>"
   ]
  },
  {
   "cell_type": "markdown",
   "id": "87b1b775",
   "metadata": {},
   "source": [
    "<H1>20 .Least frequent vehicle type<H1>"
   ]
  },
  {
   "cell_type": "code",
   "execution_count": 23,
   "id": "7ffacc27",
   "metadata": {},
   "outputs": [
    {
     "name": "stdout",
     "output_type": "stream",
     "text": [
      "Least frequent vehicle type: Vehicle_Type\n",
      "Car                                      497992\n",
      "Van / Goods 3.5 tonnes mgw or under       34160\n",
      "Bus or coach (17 or more pass seats)      25878\n",
      "Motorcycle over 500cc                     25657\n",
      "Goods 7.5 tonnes mgw and over             17307\n",
      "Motorcycle 125cc and under                15269\n",
      "Taxi/Private hire car                     13294\n",
      "Motorcycle over 125cc and up to 500cc      7656\n",
      "Motorcycle 50cc and under                  7603\n",
      "Goods over 3.5t. and under 7.5t            6096\n",
      "Other vehicle                              5637\n",
      "Minibus (8 - 16 passenger seats)           1976\n",
      "Agricultural vehicle                       1947\n",
      "Pedal cycle                                 197\n",
      "Data missing or out of range                  6\n",
      "Ridden horse                                  4\n",
      "Name: count, dtype: int64\n"
     ]
    }
   ],
   "source": [
    "print(\"Least frequent vehicle type:\", uk_road_accident[\"Vehicle_Type\"].value_counts())"
   ]
  },
  {
   "cell_type": "markdown",
   "id": "37addd9e",
   "metadata": {},
   "source": [
    "<h1>Insight : The least frequent vehicle type shows which vehicles are least likely to be involved in crashes.</h1>"
   ]
  },
  {
   "cell_type": "code",
   "execution_count": 24,
   "id": "3ab5f4c7",
   "metadata": {},
   "outputs": [],
   "source": [
    "uk_road_accident['Accident Date'] = pd.to_datetime(uk_road_accident['Accident Date'], dayfirst=True, errors= 'coerce')"
   ]
  },
  {
   "cell_type": "code",
   "execution_count": 25,
   "id": "a9201596",
   "metadata": {},
   "outputs": [
    {
     "data": {
      "text/plain": [
       "Index                           0\n",
       "Accident_Severity               0\n",
       "Accident Date              395672\n",
       "Latitude                       25\n",
       "Light_Conditions                0\n",
       "District Area                   0\n",
       "Longitude                      26\n",
       "Number_of_Casualties            0\n",
       "Number_of_Vehicles              0\n",
       "Road_Surface_Conditions       726\n",
       "Road_Type                    4520\n",
       "Urban_or_Rural_Area            15\n",
       "Weather_Conditions          14128\n",
       "Vehicle_Type                    0\n",
       "dtype: int64"
      ]
     },
     "execution_count": 25,
     "metadata": {},
     "output_type": "execute_result"
    }
   ],
   "source": [
    "uk_road_accident.isnull().sum()"
   ]
  },
  {
   "cell_type": "code",
   "execution_count": 26,
   "id": "034d6955",
   "metadata": {},
   "outputs": [],
   "source": [
    "uk_road_accident['Year'] = uk_road_accident['Accident Date'].dt.year\n",
    "uk_road_accident['Month'] = uk_road_accident['Accident Date'].dt.month\n",
    "uk_road_accident['Day'] = uk_road_accident['Accident Date'].dt.day\n",
    "uk_road_accident['DayOfWeek'] = uk_road_accident['Accident Date'].dt.dayofweek"
   ]
  },
  {
   "cell_type": "markdown",
   "id": "9967a904",
   "metadata": {},
   "source": []
  },
  {
   "cell_type": "markdown",
   "id": "7de131fb",
   "metadata": {},
   "source": [
    "<h1>21. In 2019, how many accidents occurred in Urban and Rural areas?<h1>"
   ]
  },
  {
   "cell_type": "code",
   "execution_count": 33,
   "id": "a565d56a",
   "metadata": {},
   "outputs": [
    {
     "data": {
      "text/plain": [
       "Urban_or_Rural_Area\n",
       "Urban          45253\n",
       "Rural          26611\n",
       "Unallocated        2\n",
       "Name: count, dtype: int64"
      ]
     },
     "execution_count": 33,
     "metadata": {},
     "output_type": "execute_result"
    }
   ],
   "source": [
    "uk_road_accident[uk_road_accident['Year'] == 2019]['Urban_or_Rural_Area'].value_counts()\n",
    "\n"
   ]
  },
  {
   "cell_type": "markdown",
   "id": "f9312a39",
   "metadata": {},
   "source": [
    "<h1>INSIGHTS : The result shows if accidents were more common in crowded urban roads or in rural areas with higher speeds and fewer safety measures.<h1>"
   ]
  },
  {
   "cell_type": "markdown",
   "id": "68cbad76",
   "metadata": {},
   "source": [
    "<h1>22. Which year recorded the most accidents?<h1>"
   ]
  },
  {
   "cell_type": "code",
   "execution_count": 34,
   "id": "be4f8afe",
   "metadata": {},
   "outputs": [
    {
     "data": {
      "text/plain": [
       "Year\n",
       "2019.0    71867\n",
       "2020.0    70163\n",
       "2021.0    66172\n",
       "2022.0    56805\n",
       "Name: count, dtype: int64"
      ]
     },
     "execution_count": 34,
     "metadata": {},
     "output_type": "execute_result"
    }
   ],
   "source": [
    "uk_road_accident['Year'].value_counts()"
   ]
  },
  {
   "cell_type": "markdown",
   "id": "dc843a18",
   "metadata": {},
   "source": [
    "<h1>Insight: This shows the accident that happened per year, helping identify which year had the highest risk on the roads.<h1>"
   ]
  },
  {
   "cell_type": "markdown",
   "id": "0ebfe802",
   "metadata": {},
   "source": [
    "<h1>23. Which month had the most accidents overall?<h1>"
   ]
  },
  {
   "cell_type": "code",
   "execution_count": 35,
   "id": "0b468118",
   "metadata": {},
   "outputs": [
    {
     "data": {
      "text/plain": [
       "Month\n",
       "11.0    24240\n",
       "12.0    24156\n",
       "10.0    23962\n",
       "7.0     22939\n",
       "9.0     22558\n",
       "2.0     22264\n",
       "6.0     22196\n",
       "3.0     21824\n",
       "5.0     21723\n",
       "8.0     21106\n",
       "4.0     19787\n",
       "1.0     18252\n",
       "Name: count, dtype: int64"
      ]
     },
     "execution_count": 35,
     "metadata": {},
     "output_type": "execute_result"
    }
   ],
   "source": [
    "uk_road_accident['Month'].value_counts()"
   ]
  },
  {
   "cell_type": "markdown",
   "id": "f12c7a35",
   "metadata": {},
   "source": [
    "<h1>Insight: The result highlights which month accidents peaked, possibly due to weather, holidays, or seasonal travel.<h1>"
   ]
  },
  {
   "cell_type": "markdown",
   "id": "33dd619a",
   "metadata": {},
   "source": [
    "<h1>24. Which day of the week in 2020 had the most accidents?<h1>"
   ]
  },
  {
   "cell_type": "code",
   "execution_count": 36,
   "id": "4f034239",
   "metadata": {},
   "outputs": [
    {
     "data": {
      "text/plain": [
       "DayOfWeek\n",
       "5.0    11655\n",
       "2.0    11412\n",
       "3.0    10626\n",
       "1.0     9765\n",
       "6.0     9711\n",
       "4.0     9698\n",
       "0.0     7296\n",
       "Name: count, dtype: int64"
      ]
     },
     "execution_count": 36,
     "metadata": {},
     "output_type": "execute_result"
    }
   ],
   "source": [
    "uk_road_accident[uk_road_accident['Year'] == 2020]['DayOfWeek'].value_counts()\n"
   ]
  },
  {
   "cell_type": "markdown",
   "id": "6cc71ccf",
   "metadata": {},
   "source": [
    "<h1>Insight:\n",
    "\n",
    "Accidents occurred most often on Saturdays, while Mondays had the fewest, suggesting weekend travel increases accident risks compared to weekday commutes.<h1>"
   ]
  },
  {
   "cell_type": "markdown",
   "id": "99eea4bb",
   "metadata": {},
   "source": [
    "<h1>25 . How many accidents happened per month in 2020?<h1>\n"
   ]
  },
  {
   "cell_type": "code",
   "execution_count": 37,
   "id": "9234c84b",
   "metadata": {},
   "outputs": [
    {
     "data": {
      "text/plain": [
       "Month\n",
       "12.0    6727\n",
       "10.0    6275\n",
       "7.0     6215\n",
       "2.0     6022\n",
       "11.0    5872\n",
       "9.0     5869\n",
       "5.0     5837\n",
       "6.0     5770\n",
       "3.0     5579\n",
       "4.0     5457\n",
       "8.0     5394\n",
       "1.0     5146\n",
       "Name: count, dtype: int64"
      ]
     },
     "execution_count": 37,
     "metadata": {},
     "output_type": "execute_result"
    }
   ],
   "source": [
    "uk_road_accident[uk_road_accident['Year'] == 2020]['Month'].value_counts()\n"
   ]
  },
  {
   "cell_type": "markdown",
   "id": "5bdd4867",
   "metadata": {},
   "source": [
    "<h1>Insight:\n",
    "\n",
    "The result shows which months in 2019 had the highest number of accidents, indicating possible seasonal effects such as holiday travel or weather conditions.\n",
    "<h1>"
   ]
  },
  {
   "cell_type": "markdown",
   "id": "f4201d09",
   "metadata": {},
   "source": []
  }
 ],
 "metadata": {
  "kernelspec": {
   "display_name": "Python 3",
   "language": "python",
   "name": "python3"
  },
  "language_info": {
   "codemirror_mode": {
    "name": "ipython",
    "version": 3
   },
   "file_extension": ".py",
   "mimetype": "text/x-python",
   "name": "python",
   "nbconvert_exporter": "python",
   "pygments_lexer": "ipython3",
   "version": "3.12.6"
  }
 },
 "nbformat": 4,
 "nbformat_minor": 5
}
